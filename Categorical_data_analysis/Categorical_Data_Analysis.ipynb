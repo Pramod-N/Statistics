{
 "cells": [
  {
   "cell_type": "markdown",
   "id": "76875f53",
   "metadata": {},
   "source": [
    "# Categorical Analysis on Data"
   ]
  },
  {
   "cell_type": "code",
   "execution_count": 1,
   "id": "31cd4ade",
   "metadata": {},
   "outputs": [],
   "source": [
    "import pandas as pd\n",
    "import numpy as np\n",
    "import matplotlib.pyplot as plt"
   ]
  },
  {
   "cell_type": "markdown",
   "id": "644009c1",
   "metadata": {},
   "source": [
    "Load the dataset from the directory"
   ]
  },
  {
   "cell_type": "code",
   "execution_count": 2,
   "id": "7633dc05",
   "metadata": {},
   "outputs": [],
   "source": [
    "dataframe = pd.read_csv(r\"./matches.csv\")"
   ]
  },
  {
   "cell_type": "markdown",
   "id": "7c6b1067",
   "metadata": {},
   "source": [
    "The dataset contains all data from 2008 to 2017 IPL with data including Season, Date of match, Toss won, Teams, Season Year and so on and so forth.\n",
    "Below is the code to describe the data to give an overview of the dataset."
   ]
  },
  {
   "cell_type": "code",
   "execution_count": 3,
   "id": "940e0c41",
   "metadata": {},
   "outputs": [
    {
     "data": {
      "text/html": [
       "<div>\n",
       "<style scoped>\n",
       "    .dataframe tbody tr th:only-of-type {\n",
       "        vertical-align: middle;\n",
       "    }\n",
       "\n",
       "    .dataframe tbody tr th {\n",
       "        vertical-align: top;\n",
       "    }\n",
       "\n",
       "    .dataframe thead th {\n",
       "        text-align: right;\n",
       "    }\n",
       "</style>\n",
       "<table border=\"1\" class=\"dataframe\">\n",
       "  <thead>\n",
       "    <tr style=\"text-align: right;\">\n",
       "      <th></th>\n",
       "      <th>id</th>\n",
       "      <th>season</th>\n",
       "      <th>dl_applied</th>\n",
       "      <th>win_by_runs</th>\n",
       "      <th>win_by_wickets</th>\n",
       "      <th>umpire3</th>\n",
       "    </tr>\n",
       "  </thead>\n",
       "  <tbody>\n",
       "    <tr>\n",
       "      <th>count</th>\n",
       "      <td>636.000000</td>\n",
       "      <td>636.000000</td>\n",
       "      <td>636.000000</td>\n",
       "      <td>636.000000</td>\n",
       "      <td>636.000000</td>\n",
       "      <td>0.0</td>\n",
       "    </tr>\n",
       "    <tr>\n",
       "      <th>mean</th>\n",
       "      <td>318.500000</td>\n",
       "      <td>2012.490566</td>\n",
       "      <td>0.025157</td>\n",
       "      <td>13.682390</td>\n",
       "      <td>3.372642</td>\n",
       "      <td>NaN</td>\n",
       "    </tr>\n",
       "    <tr>\n",
       "      <th>std</th>\n",
       "      <td>183.741666</td>\n",
       "      <td>2.773026</td>\n",
       "      <td>0.156726</td>\n",
       "      <td>23.908877</td>\n",
       "      <td>3.420338</td>\n",
       "      <td>NaN</td>\n",
       "    </tr>\n",
       "    <tr>\n",
       "      <th>min</th>\n",
       "      <td>1.000000</td>\n",
       "      <td>2008.000000</td>\n",
       "      <td>0.000000</td>\n",
       "      <td>0.000000</td>\n",
       "      <td>0.000000</td>\n",
       "      <td>NaN</td>\n",
       "    </tr>\n",
       "    <tr>\n",
       "      <th>25%</th>\n",
       "      <td>159.750000</td>\n",
       "      <td>2010.000000</td>\n",
       "      <td>0.000000</td>\n",
       "      <td>0.000000</td>\n",
       "      <td>0.000000</td>\n",
       "      <td>NaN</td>\n",
       "    </tr>\n",
       "    <tr>\n",
       "      <th>50%</th>\n",
       "      <td>318.500000</td>\n",
       "      <td>2012.000000</td>\n",
       "      <td>0.000000</td>\n",
       "      <td>0.000000</td>\n",
       "      <td>4.000000</td>\n",
       "      <td>NaN</td>\n",
       "    </tr>\n",
       "    <tr>\n",
       "      <th>75%</th>\n",
       "      <td>477.250000</td>\n",
       "      <td>2015.000000</td>\n",
       "      <td>0.000000</td>\n",
       "      <td>20.000000</td>\n",
       "      <td>7.000000</td>\n",
       "      <td>NaN</td>\n",
       "    </tr>\n",
       "    <tr>\n",
       "      <th>max</th>\n",
       "      <td>636.000000</td>\n",
       "      <td>2017.000000</td>\n",
       "      <td>1.000000</td>\n",
       "      <td>146.000000</td>\n",
       "      <td>10.000000</td>\n",
       "      <td>NaN</td>\n",
       "    </tr>\n",
       "  </tbody>\n",
       "</table>\n",
       "</div>"
      ],
      "text/plain": [
       "               id       season  dl_applied  win_by_runs  win_by_wickets  \\\n",
       "count  636.000000   636.000000  636.000000   636.000000      636.000000   \n",
       "mean   318.500000  2012.490566    0.025157    13.682390        3.372642   \n",
       "std    183.741666     2.773026    0.156726    23.908877        3.420338   \n",
       "min      1.000000  2008.000000    0.000000     0.000000        0.000000   \n",
       "25%    159.750000  2010.000000    0.000000     0.000000        0.000000   \n",
       "50%    318.500000  2012.000000    0.000000     0.000000        4.000000   \n",
       "75%    477.250000  2015.000000    0.000000    20.000000        7.000000   \n",
       "max    636.000000  2017.000000    1.000000   146.000000       10.000000   \n",
       "\n",
       "       umpire3  \n",
       "count      0.0  \n",
       "mean       NaN  \n",
       "std        NaN  \n",
       "min        NaN  \n",
       "25%        NaN  \n",
       "50%        NaN  \n",
       "75%        NaN  \n",
       "max        NaN  "
      ]
     },
     "execution_count": 3,
     "metadata": {},
     "output_type": "execute_result"
    }
   ],
   "source": [
    "dataframe.describe()"
   ]
  },
  {
   "cell_type": "markdown",
   "id": "c804693e",
   "metadata": {},
   "source": [
    "From the dataset i pick season and city columns as they are categorical data to perform my analysis. "
   ]
  },
  {
   "cell_type": "code",
   "execution_count": 4,
   "id": "bf7459bc",
   "metadata": {},
   "outputs": [],
   "source": [
    "dataset = dataframe[[\"season\",\"city\"]]"
   ]
  },
  {
   "cell_type": "markdown",
   "id": "1528ccdc",
   "metadata": {},
   "source": [
    "## Frequency Chart"
   ]
  },
  {
   "cell_type": "markdown",
   "id": "908f5bda",
   "metadata": {},
   "source": [
    "I am analyzing the frequency of matches conducted in each cities in the year of 2017"
   ]
  },
  {
   "cell_type": "code",
   "execution_count": 5,
   "id": "337b5dd7",
   "metadata": {},
   "outputs": [],
   "source": [
    "dataset = dataset[dataset.season == 2017]"
   ]
  },
  {
   "cell_type": "markdown",
   "id": "27ae2f12",
   "metadata": {},
   "source": [
    "Filter out the City (our point of interest) and convert it to numpy array"
   ]
  },
  {
   "cell_type": "code",
   "execution_count": 6,
   "id": "d92c2d81",
   "metadata": {},
   "outputs": [],
   "source": [
    "Dataset = dataset[\"city\"].values"
   ]
  },
  {
   "cell_type": "code",
   "execution_count": 7,
   "id": "fc39b175",
   "metadata": {},
   "outputs": [
    {
     "data": {
      "text/plain": [
       "array(['Hyderabad', 'Pune', 'Rajkot', 'Indore', 'Bangalore', 'Hyderabad',\n",
       "       'Mumbai', 'Indore', 'Pune', 'Mumbai', 'Kolkata', 'Bangalore',\n",
       "       'Rajkot', 'Kolkata', 'Delhi', 'Mumbai', 'Bangalore', 'Delhi',\n",
       "       'Hyderabad', 'Rajkot', 'Hyderabad', 'Indore', 'Kolkata', 'Mumbai',\n",
       "       'Pune', 'Rajkot', 'Kolkata', 'Mumbai', 'Pune', 'Bangalore',\n",
       "       'Kolkata', 'Chandigarh', 'Pune', 'Rajkot', 'Chandigarh',\n",
       "       'Hyderabad', 'Mumbai', 'Pune', 'Delhi', 'Kolkata', 'Delhi',\n",
       "       'Bangalore', 'Hyderabad', 'Delhi', 'Bangalore', 'Chandigarh',\n",
       "       'Hyderabad', 'Chandigarh', 'Kanpur', 'Mumbai', 'Delhi', 'Kanpur',\n",
       "       'Kolkata', 'Pune', 'Delhi', 'Mumbai', 'Bangalore', 'Bangalore',\n",
       "       'Hyderabad'], dtype=object)"
      ]
     },
     "execution_count": 7,
     "metadata": {},
     "output_type": "execute_result"
    }
   ],
   "source": [
    "Dataset"
   ]
  },
  {
   "cell_type": "markdown",
   "id": "400892c8",
   "metadata": {},
   "source": [
    "Plot the frequency of matches conducted in different venues in the year of 2007"
   ]
  },
  {
   "cell_type": "code",
   "execution_count": 8,
   "id": "9cddd931",
   "metadata": {},
   "outputs": [
    {
     "data": {
      "image/png": "[encoded data removed]",
      "text/plain": [
       "<Figure size 432x288 with 1 Axes>"
      ]
     },
     "metadata": {
      "needs_background": "light"
     },
     "output_type": "display_data"
    }
   ],
   "source": [
    "plt.hist(Dataset,bins=50)\n",
    "plt.xticks(rotation=45)\n",
    "plt.gca().set(title='Frequency Histogram', ylabel='Frequency',xlabel=\"Cities\");"
   ]
  },
  {
   "cell_type": "markdown",
   "id": "30088cf1",
   "metadata": {},
   "source": [
    "From the above plot or if there were more venues, then it would have been difficult to draw inferenct such as(one example below):\n",
    "\n",
    "**which venue has 4th hishest matches conducted India in 2017**"
   ]
  },
  {
   "cell_type": "markdown",
   "id": "09c472cb",
   "metadata": {},
   "source": [
    "Below code is uses numpy unique library to find the frequency of matches in each venue and then sort it in descending order of matches conducted."
   ]
  },
  {
   "cell_type": "code",
   "execution_count": 9,
   "id": "8db9855f",
   "metadata": {},
   "outputs": [],
   "source": [
    "cities,frequency = np.unique(Dataset,return_counts=True)"
   ]
  },
  {
   "cell_type": "code",
   "execution_count": 10,
   "id": "411ee31d",
   "metadata": {},
   "outputs": [],
   "source": [
    "freq_sorted = np.argsort(-frequency)"
   ]
  },
  {
   "cell_type": "code",
   "execution_count": 11,
   "id": "aa6118e0",
   "metadata": {},
   "outputs": [
    {
     "data": {
      "text/plain": [
       "array(['Bangalore', 'Hyderabad', 'Mumbai', 'Delhi', 'Kolkata', 'Pune',\n",
       "       'Rajkot', 'Chandigarh', 'Indore', 'Kanpur'], dtype=object)"
      ]
     },
     "execution_count": 11,
     "metadata": {},
     "output_type": "execute_result"
    }
   ],
   "source": [
    "cities[freq_sorted]"
   ]
  },
  {
   "cell_type": "markdown",
   "id": "54c6380c",
   "metadata": {},
   "source": [
    "## Sorted Frequency chart"
   ]
  },
  {
   "cell_type": "markdown",
   "id": "edee167b",
   "metadata": {},
   "source": [
    "I have reassigned the dataset to a new dataset variable(dataframe) to avoid modifying the main variable by any chance"
   ]
  },
  {
   "cell_type": "code",
   "execution_count": 12,
   "id": "25093062",
   "metadata": {},
   "outputs": [],
   "source": [
    "dataset2 = dataset"
   ]
  },
  {
   "cell_type": "markdown",
   "id": "5fb6b9ea",
   "metadata": {},
   "source": [
    "To get the frequency of the cities where the matches where conducted in 2017 in descending order:\n",
    "* Group by city and assign that column as frequency(freq in code)\n",
    "* Sort values by frequency in descending ordr \n",
    "* For cities with same frequency sort alphabetically "
   ]
  },
  {
   "cell_type": "code",
   "execution_count": 13,
   "id": "4af314a2",
   "metadata": {},
   "outputs": [],
   "source": [
    "df = dataset2.assign(freq=dataset2.groupby('city')['city'].transform('count'))\\\n",
    "  .sort_values(by=['freq','city'],ascending=[False,True]).loc[:,['city']]"
   ]
  },
  {
   "cell_type": "markdown",
   "id": "a7c2595c",
   "metadata": {},
   "source": [
    "Check if the cities are sorted based on their frequency"
   ]
  },
  {
   "cell_type": "code",
   "execution_count": 14,
   "id": "9bbe0184",
   "metadata": {},
   "outputs": [
    {
     "data": {
      "text/plain": [
       "array(['Bangalore', 'Bangalore', 'Bangalore', 'Bangalore', 'Bangalore',\n",
       "       'Bangalore', 'Bangalore', 'Bangalore', 'Hyderabad', 'Hyderabad',\n",
       "       'Hyderabad', 'Hyderabad', 'Hyderabad', 'Hyderabad', 'Hyderabad',\n",
       "       'Hyderabad', 'Mumbai', 'Mumbai', 'Mumbai', 'Mumbai', 'Mumbai',\n",
       "       'Mumbai', 'Mumbai', 'Mumbai', 'Delhi', 'Delhi', 'Delhi', 'Delhi',\n",
       "       'Delhi', 'Delhi', 'Delhi', 'Kolkata', 'Kolkata', 'Kolkata',\n",
       "       'Kolkata', 'Kolkata', 'Kolkata', 'Kolkata', 'Pune', 'Pune', 'Pune',\n",
       "       'Pune', 'Pune', 'Pune', 'Pune', 'Rajkot', 'Rajkot', 'Rajkot',\n",
       "       'Rajkot', 'Rajkot', 'Chandigarh', 'Chandigarh', 'Chandigarh',\n",
       "       'Chandigarh', 'Indore', 'Indore', 'Indore', 'Kanpur', 'Kanpur'],\n",
       "      dtype=object)"
      ]
     },
     "execution_count": 14,
     "metadata": {},
     "output_type": "execute_result"
    }
   ],
   "source": [
    "df[\"city\"].values"
   ]
  },
  {
   "cell_type": "markdown",
   "id": "0f11007d",
   "metadata": {},
   "source": [
    "Plot the data based on decreasing frequency of matches conducted in those venues"
   ]
  },
  {
   "cell_type": "code",
   "execution_count": 15,
   "id": "2d079e00",
   "metadata": {},
   "outputs": [
    {
     "data": {
      "image/png": "[encoded data removed]",
      "text/plain": [
       "<Figure size 432x288 with 1 Axes>"
      ]
     },
     "metadata": {
      "needs_background": "light"
     },
     "output_type": "display_data"
    }
   ],
   "source": [
    "plt.hist(df[\"city\"].values,bins=50)\n",
    "plt.xticks(rotation=45)\n",
    "plt.gca().set(title='Frequency Histogram', ylabel='Frequency',xlabel=\"Cities\");"
   ]
  },
  {
   "cell_type": "markdown",
   "id": "2b890f41",
   "metadata": {},
   "source": [
    "From the above plot it would have been difficult to draw inferenct such as(one example below):\n",
    "\n",
    "**what percentage of matches where conducted in each venues 2017**"
   ]
  },
  {
   "cell_type": "markdown",
   "id": "73017109",
   "metadata": {},
   "source": [
    "## Relative Frequency Chart"
   ]
  },
  {
   "cell_type": "markdown",
   "id": "c8ed9f31",
   "metadata": {},
   "source": [
    "Find the sum of of all matches per venue"
   ]
  },
  {
   "cell_type": "code",
   "execution_count": 16,
   "id": "ed861297",
   "metadata": {},
   "outputs": [
    {
     "data": {
      "text/plain": [
       "59"
      ]
     },
     "execution_count": 16,
     "metadata": {},
     "output_type": "execute_result"
    }
   ],
   "source": [
    "df['city'].value_counts().sum()"
   ]
  },
  {
   "cell_type": "markdown",
   "id": "2ed45a6c",
   "metadata": {},
   "source": [
    "To get the frequency of the cities where the matches where conducted in 2017 in descending order:\n",
    "* Group by city and assign that column as frequency(freq in code). Divide this by sum of all matches per venue\n",
    "* Sort values by frequency in descending ordr \n",
    "* For cities with same frequency sort alphabetically "
   ]
  },
  {
   "cell_type": "code",
   "execution_count": 17,
   "id": "569aae65",
   "metadata": {},
   "outputs": [
    {
     "data": {
      "text/html": [
       "<div>\n",
       "<style scoped>\n",
       "    .dataframe tbody tr th:only-of-type {\n",
       "        vertical-align: middle;\n",
       "    }\n",
       "\n",
       "    .dataframe tbody tr th {\n",
       "        vertical-align: top;\n",
       "    }\n",
       "\n",
       "    .dataframe thead th {\n",
       "        text-align: right;\n",
       "    }\n",
       "</style>\n",
       "<table border=\"1\" class=\"dataframe\">\n",
       "  <thead>\n",
       "    <tr style=\"text-align: right;\">\n",
       "      <th></th>\n",
       "      <th>season</th>\n",
       "      <th>city</th>\n",
       "      <th>freq</th>\n",
       "    </tr>\n",
       "  </thead>\n",
       "  <tbody>\n",
       "    <tr>\n",
       "      <th>4</th>\n",
       "      <td>2017</td>\n",
       "      <td>Bangalore</td>\n",
       "      <td>0.135593</td>\n",
       "    </tr>\n",
       "    <tr>\n",
       "      <th>11</th>\n",
       "      <td>2017</td>\n",
       "      <td>Bangalore</td>\n",
       "      <td>0.135593</td>\n",
       "    </tr>\n",
       "    <tr>\n",
       "      <th>16</th>\n",
       "      <td>2017</td>\n",
       "      <td>Bangalore</td>\n",
       "      <td>0.135593</td>\n",
       "    </tr>\n",
       "    <tr>\n",
       "      <th>29</th>\n",
       "      <td>2017</td>\n",
       "      <td>Bangalore</td>\n",
       "      <td>0.135593</td>\n",
       "    </tr>\n",
       "    <tr>\n",
       "      <th>41</th>\n",
       "      <td>2017</td>\n",
       "      <td>Bangalore</td>\n",
       "      <td>0.135593</td>\n",
       "    </tr>\n",
       "    <tr>\n",
       "      <th>44</th>\n",
       "      <td>2017</td>\n",
       "      <td>Bangalore</td>\n",
       "      <td>0.135593</td>\n",
       "    </tr>\n",
       "    <tr>\n",
       "      <th>56</th>\n",
       "      <td>2017</td>\n",
       "      <td>Bangalore</td>\n",
       "      <td>0.135593</td>\n",
       "    </tr>\n",
       "    <tr>\n",
       "      <th>57</th>\n",
       "      <td>2017</td>\n",
       "      <td>Bangalore</td>\n",
       "      <td>0.135593</td>\n",
       "    </tr>\n",
       "    <tr>\n",
       "      <th>0</th>\n",
       "      <td>2017</td>\n",
       "      <td>Hyderabad</td>\n",
       "      <td>0.135593</td>\n",
       "    </tr>\n",
       "    <tr>\n",
       "      <th>5</th>\n",
       "      <td>2017</td>\n",
       "      <td>Hyderabad</td>\n",
       "      <td>0.135593</td>\n",
       "    </tr>\n",
       "    <tr>\n",
       "      <th>18</th>\n",
       "      <td>2017</td>\n",
       "      <td>Hyderabad</td>\n",
       "      <td>0.135593</td>\n",
       "    </tr>\n",
       "    <tr>\n",
       "      <th>20</th>\n",
       "      <td>2017</td>\n",
       "      <td>Hyderabad</td>\n",
       "      <td>0.135593</td>\n",
       "    </tr>\n",
       "    <tr>\n",
       "      <th>35</th>\n",
       "      <td>2017</td>\n",
       "      <td>Hyderabad</td>\n",
       "      <td>0.135593</td>\n",
       "    </tr>\n",
       "    <tr>\n",
       "      <th>42</th>\n",
       "      <td>2017</td>\n",
       "      <td>Hyderabad</td>\n",
       "      <td>0.135593</td>\n",
       "    </tr>\n",
       "    <tr>\n",
       "      <th>46</th>\n",
       "      <td>2017</td>\n",
       "      <td>Hyderabad</td>\n",
       "      <td>0.135593</td>\n",
       "    </tr>\n",
       "    <tr>\n",
       "      <th>58</th>\n",
       "      <td>2017</td>\n",
       "      <td>Hyderabad</td>\n",
       "      <td>0.135593</td>\n",
       "    </tr>\n",
       "    <tr>\n",
       "      <th>6</th>\n",
       "      <td>2017</td>\n",
       "      <td>Mumbai</td>\n",
       "      <td>0.135593</td>\n",
       "    </tr>\n",
       "    <tr>\n",
       "      <th>9</th>\n",
       "      <td>2017</td>\n",
       "      <td>Mumbai</td>\n",
       "      <td>0.135593</td>\n",
       "    </tr>\n",
       "    <tr>\n",
       "      <th>15</th>\n",
       "      <td>2017</td>\n",
       "      <td>Mumbai</td>\n",
       "      <td>0.135593</td>\n",
       "    </tr>\n",
       "    <tr>\n",
       "      <th>23</th>\n",
       "      <td>2017</td>\n",
       "      <td>Mumbai</td>\n",
       "      <td>0.135593</td>\n",
       "    </tr>\n",
       "    <tr>\n",
       "      <th>27</th>\n",
       "      <td>2017</td>\n",
       "      <td>Mumbai</td>\n",
       "      <td>0.135593</td>\n",
       "    </tr>\n",
       "    <tr>\n",
       "      <th>36</th>\n",
       "      <td>2017</td>\n",
       "      <td>Mumbai</td>\n",
       "      <td>0.135593</td>\n",
       "    </tr>\n",
       "    <tr>\n",
       "      <th>49</th>\n",
       "      <td>2017</td>\n",
       "      <td>Mumbai</td>\n",
       "      <td>0.135593</td>\n",
       "    </tr>\n",
       "    <tr>\n",
       "      <th>55</th>\n",
       "      <td>2017</td>\n",
       "      <td>Mumbai</td>\n",
       "      <td>0.135593</td>\n",
       "    </tr>\n",
       "    <tr>\n",
       "      <th>14</th>\n",
       "      <td>2017</td>\n",
       "      <td>Delhi</td>\n",
       "      <td>0.118644</td>\n",
       "    </tr>\n",
       "    <tr>\n",
       "      <th>17</th>\n",
       "      <td>2017</td>\n",
       "      <td>Delhi</td>\n",
       "      <td>0.118644</td>\n",
       "    </tr>\n",
       "    <tr>\n",
       "      <th>38</th>\n",
       "      <td>2017</td>\n",
       "      <td>Delhi</td>\n",
       "      <td>0.118644</td>\n",
       "    </tr>\n",
       "    <tr>\n",
       "      <th>40</th>\n",
       "      <td>2017</td>\n",
       "      <td>Delhi</td>\n",
       "      <td>0.118644</td>\n",
       "    </tr>\n",
       "    <tr>\n",
       "      <th>43</th>\n",
       "      <td>2017</td>\n",
       "      <td>Delhi</td>\n",
       "      <td>0.118644</td>\n",
       "    </tr>\n",
       "    <tr>\n",
       "      <th>50</th>\n",
       "      <td>2017</td>\n",
       "      <td>Delhi</td>\n",
       "      <td>0.118644</td>\n",
       "    </tr>\n",
       "    <tr>\n",
       "      <th>54</th>\n",
       "      <td>2017</td>\n",
       "      <td>Delhi</td>\n",
       "      <td>0.118644</td>\n",
       "    </tr>\n",
       "    <tr>\n",
       "      <th>10</th>\n",
       "      <td>2017</td>\n",
       "      <td>Kolkata</td>\n",
       "      <td>0.118644</td>\n",
       "    </tr>\n",
       "    <tr>\n",
       "      <th>13</th>\n",
       "      <td>2017</td>\n",
       "      <td>Kolkata</td>\n",
       "      <td>0.118644</td>\n",
       "    </tr>\n",
       "    <tr>\n",
       "      <th>22</th>\n",
       "      <td>2017</td>\n",
       "      <td>Kolkata</td>\n",
       "      <td>0.118644</td>\n",
       "    </tr>\n",
       "    <tr>\n",
       "      <th>26</th>\n",
       "      <td>2017</td>\n",
       "      <td>Kolkata</td>\n",
       "      <td>0.118644</td>\n",
       "    </tr>\n",
       "    <tr>\n",
       "      <th>30</th>\n",
       "      <td>2017</td>\n",
       "      <td>Kolkata</td>\n",
       "      <td>0.118644</td>\n",
       "    </tr>\n",
       "    <tr>\n",
       "      <th>39</th>\n",
       "      <td>2017</td>\n",
       "      <td>Kolkata</td>\n",
       "      <td>0.118644</td>\n",
       "    </tr>\n",
       "    <tr>\n",
       "      <th>52</th>\n",
       "      <td>2017</td>\n",
       "      <td>Kolkata</td>\n",
       "      <td>0.118644</td>\n",
       "    </tr>\n",
       "    <tr>\n",
       "      <th>1</th>\n",
       "      <td>2017</td>\n",
       "      <td>Pune</td>\n",
       "      <td>0.118644</td>\n",
       "    </tr>\n",
       "    <tr>\n",
       "      <th>8</th>\n",
       "      <td>2017</td>\n",
       "      <td>Pune</td>\n",
       "      <td>0.118644</td>\n",
       "    </tr>\n",
       "    <tr>\n",
       "      <th>24</th>\n",
       "      <td>2017</td>\n",
       "      <td>Pune</td>\n",
       "      <td>0.118644</td>\n",
       "    </tr>\n",
       "    <tr>\n",
       "      <th>28</th>\n",
       "      <td>2017</td>\n",
       "      <td>Pune</td>\n",
       "      <td>0.118644</td>\n",
       "    </tr>\n",
       "    <tr>\n",
       "      <th>32</th>\n",
       "      <td>2017</td>\n",
       "      <td>Pune</td>\n",
       "      <td>0.118644</td>\n",
       "    </tr>\n",
       "    <tr>\n",
       "      <th>37</th>\n",
       "      <td>2017</td>\n",
       "      <td>Pune</td>\n",
       "      <td>0.118644</td>\n",
       "    </tr>\n",
       "    <tr>\n",
       "      <th>53</th>\n",
       "      <td>2017</td>\n",
       "      <td>Pune</td>\n",
       "      <td>0.118644</td>\n",
       "    </tr>\n",
       "    <tr>\n",
       "      <th>2</th>\n",
       "      <td>2017</td>\n",
       "      <td>Rajkot</td>\n",
       "      <td>0.084746</td>\n",
       "    </tr>\n",
       "    <tr>\n",
       "      <th>12</th>\n",
       "      <td>2017</td>\n",
       "      <td>Rajkot</td>\n",
       "      <td>0.084746</td>\n",
       "    </tr>\n",
       "    <tr>\n",
       "      <th>19</th>\n",
       "      <td>2017</td>\n",
       "      <td>Rajkot</td>\n",
       "      <td>0.084746</td>\n",
       "    </tr>\n",
       "    <tr>\n",
       "      <th>25</th>\n",
       "      <td>2017</td>\n",
       "      <td>Rajkot</td>\n",
       "      <td>0.084746</td>\n",
       "    </tr>\n",
       "    <tr>\n",
       "      <th>33</th>\n",
       "      <td>2017</td>\n",
       "      <td>Rajkot</td>\n",
       "      <td>0.084746</td>\n",
       "    </tr>\n",
       "    <tr>\n",
       "      <th>31</th>\n",
       "      <td>2017</td>\n",
       "      <td>Chandigarh</td>\n",
       "      <td>0.067797</td>\n",
       "    </tr>\n",
       "    <tr>\n",
       "      <th>34</th>\n",
       "      <td>2017</td>\n",
       "      <td>Chandigarh</td>\n",
       "      <td>0.067797</td>\n",
       "    </tr>\n",
       "    <tr>\n",
       "      <th>45</th>\n",
       "      <td>2017</td>\n",
       "      <td>Chandigarh</td>\n",
       "      <td>0.067797</td>\n",
       "    </tr>\n",
       "    <tr>\n",
       "      <th>47</th>\n",
       "      <td>2017</td>\n",
       "      <td>Chandigarh</td>\n",
       "      <td>0.067797</td>\n",
       "    </tr>\n",
       "    <tr>\n",
       "      <th>3</th>\n",
       "      <td>2017</td>\n",
       "      <td>Indore</td>\n",
       "      <td>0.050847</td>\n",
       "    </tr>\n",
       "    <tr>\n",
       "      <th>7</th>\n",
       "      <td>2017</td>\n",
       "      <td>Indore</td>\n",
       "      <td>0.050847</td>\n",
       "    </tr>\n",
       "    <tr>\n",
       "      <th>21</th>\n",
       "      <td>2017</td>\n",
       "      <td>Indore</td>\n",
       "      <td>0.050847</td>\n",
       "    </tr>\n",
       "    <tr>\n",
       "      <th>48</th>\n",
       "      <td>2017</td>\n",
       "      <td>Kanpur</td>\n",
       "      <td>0.033898</td>\n",
       "    </tr>\n",
       "    <tr>\n",
       "      <th>51</th>\n",
       "      <td>2017</td>\n",
       "      <td>Kanpur</td>\n",
       "      <td>0.033898</td>\n",
       "    </tr>\n",
       "  </tbody>\n",
       "</table>\n",
       "</div>"
      ],
      "text/plain": [
       "    season        city      freq\n",
       "4     2017   Bangalore  0.135593\n",
       "11    2017   Bangalore  0.135593\n",
       "16    2017   Bangalore  0.135593\n",
       "29    2017   Bangalore  0.135593\n",
       "41    2017   Bangalore  0.135593\n",
       "44    2017   Bangalore  0.135593\n",
       "56    2017   Bangalore  0.135593\n",
       "57    2017   Bangalore  0.135593\n",
       "0     2017   Hyderabad  0.135593\n",
       "5     2017   Hyderabad  0.135593\n",
       "18    2017   Hyderabad  0.135593\n",
       "20    2017   Hyderabad  0.135593\n",
       "35    2017   Hyderabad  0.135593\n",
       "42    2017   Hyderabad  0.135593\n",
       "46    2017   Hyderabad  0.135593\n",
       "58    2017   Hyderabad  0.135593\n",
       "6     2017      Mumbai  0.135593\n",
       "9     2017      Mumbai  0.135593\n",
       "15    2017      Mumbai  0.135593\n",
       "23    2017      Mumbai  0.135593\n",
       "27    2017      Mumbai  0.135593\n",
       "36    2017      Mumbai  0.135593\n",
       "49    2017      Mumbai  0.135593\n",
       "55    2017      Mumbai  0.135593\n",
       "14    2017       Delhi  0.118644\n",
       "17    2017       Delhi  0.118644\n",
       "38    2017       Delhi  0.118644\n",
       "40    2017       Delhi  0.118644\n",
       "43    2017       Delhi  0.118644\n",
       "50    2017       Delhi  0.118644\n",
       "54    2017       Delhi  0.118644\n",
       "10    2017     Kolkata  0.118644\n",
       "13    2017     Kolkata  0.118644\n",
       "22    2017     Kolkata  0.118644\n",
       "26    2017     Kolkata  0.118644\n",
       "30    2017     Kolkata  0.118644\n",
       "39    2017     Kolkata  0.118644\n",
       "52    2017     Kolkata  0.118644\n",
       "1     2017        Pune  0.118644\n",
       "8     2017        Pune  0.118644\n",
       "24    2017        Pune  0.118644\n",
       "28    2017        Pune  0.118644\n",
       "32    2017        Pune  0.118644\n",
       "37    2017        Pune  0.118644\n",
       "53    2017        Pune  0.118644\n",
       "2     2017      Rajkot  0.084746\n",
       "12    2017      Rajkot  0.084746\n",
       "19    2017      Rajkot  0.084746\n",
       "25    2017      Rajkot  0.084746\n",
       "33    2017      Rajkot  0.084746\n",
       "31    2017  Chandigarh  0.067797\n",
       "34    2017  Chandigarh  0.067797\n",
       "45    2017  Chandigarh  0.067797\n",
       "47    2017  Chandigarh  0.067797\n",
       "3     2017      Indore  0.050847\n",
       "7     2017      Indore  0.050847\n",
       "21    2017      Indore  0.050847\n",
       "48    2017      Kanpur  0.033898\n",
       "51    2017      Kanpur  0.033898"
      ]
     },
     "execution_count": 17,
     "metadata": {},
     "output_type": "execute_result"
    }
   ],
   "source": [
    "df1 = dataset2.assign(freq=dataset2.groupby('city')['city'].transform('count')/59)\\\n",
    "  .sort_values(by=['freq','city'],ascending=[False,True])\n",
    "\n",
    "df1"
   ]
  },
  {
   "cell_type": "markdown",
   "id": "1131212b",
   "metadata": {},
   "source": [
    "Plot the Relative Frequency of matches in each venue in the year 2017"
   ]
  },
  {
   "cell_type": "code",
   "execution_count": 18,
   "id": "dc9602db",
   "metadata": {},
   "outputs": [
    {
     "data": {
      "image/png": "[encoded data removed]",
      "text/plain": [
       "<Figure size 432x288 with 1 Axes>"
      ]
     },
     "metadata": {
      "needs_background": "light"
     },
     "output_type": "display_data"
    }
   ],
   "source": [
    "plt.bar(df1['city'].values,df1['freq'].values)\n",
    "plt.xticks(rotation=45)\n",
    "plt.show()"
   ]
  },
  {
   "cell_type": "markdown",
   "id": "f893380e",
   "metadata": {},
   "source": [
    "## Grouped Frequency Chart"
   ]
  },
  {
   "cell_type": "markdown",
   "id": "fe4ceb79",
   "metadata": {},
   "source": [
    "This helps in understanding and comparing by grouping the data and drawing conclusions of how the data has varied based on a given parameter.\n",
    "\n",
    "*for example: Compare the difference in matches conducted in venues in the year 2015 and 2017*"
   ]
  },
  {
   "cell_type": "code",
   "execution_count": 19,
   "id": "9e618ce9",
   "metadata": {},
   "outputs": [
    {
     "data": {
      "text/html": [
       "<div>\n",
       "<style scoped>\n",
       "    .dataframe tbody tr th:only-of-type {\n",
       "        vertical-align: middle;\n",
       "    }\n",
       "\n",
       "    .dataframe tbody tr th {\n",
       "        vertical-align: top;\n",
       "    }\n",
       "\n",
       "    .dataframe thead th {\n",
       "        text-align: right;\n",
       "    }\n",
       "</style>\n",
       "<table border=\"1\" class=\"dataframe\">\n",
       "  <thead>\n",
       "    <tr style=\"text-align: right;\">\n",
       "      <th></th>\n",
       "      <th>season</th>\n",
       "      <th>city</th>\n",
       "    </tr>\n",
       "  </thead>\n",
       "  <tbody>\n",
       "    <tr>\n",
       "      <th>0</th>\n",
       "      <td>2017</td>\n",
       "      <td>Hyderabad</td>\n",
       "    </tr>\n",
       "    <tr>\n",
       "      <th>1</th>\n",
       "      <td>2017</td>\n",
       "      <td>Pune</td>\n",
       "    </tr>\n",
       "    <tr>\n",
       "      <th>2</th>\n",
       "      <td>2017</td>\n",
       "      <td>Rajkot</td>\n",
       "    </tr>\n",
       "    <tr>\n",
       "      <th>3</th>\n",
       "      <td>2017</td>\n",
       "      <td>Indore</td>\n",
       "    </tr>\n",
       "    <tr>\n",
       "      <th>4</th>\n",
       "      <td>2017</td>\n",
       "      <td>Bangalore</td>\n",
       "    </tr>\n",
       "    <tr>\n",
       "      <th>...</th>\n",
       "      <td>...</td>\n",
       "      <td>...</td>\n",
       "    </tr>\n",
       "    <tr>\n",
       "      <th>571</th>\n",
       "      <td>2015</td>\n",
       "      <td>Hyderabad</td>\n",
       "    </tr>\n",
       "    <tr>\n",
       "      <th>572</th>\n",
       "      <td>2015</td>\n",
       "      <td>Mumbai</td>\n",
       "    </tr>\n",
       "    <tr>\n",
       "      <th>573</th>\n",
       "      <td>2015</td>\n",
       "      <td>Pune</td>\n",
       "    </tr>\n",
       "    <tr>\n",
       "      <th>574</th>\n",
       "      <td>2015</td>\n",
       "      <td>Ranchi</td>\n",
       "    </tr>\n",
       "    <tr>\n",
       "      <th>575</th>\n",
       "      <td>2015</td>\n",
       "      <td>Kolkata</td>\n",
       "    </tr>\n",
       "  </tbody>\n",
       "</table>\n",
       "<p>118 rows × 2 columns</p>\n",
       "</div>"
      ],
      "text/plain": [
       "     season       city\n",
       "0      2017  Hyderabad\n",
       "1      2017       Pune\n",
       "2      2017     Rajkot\n",
       "3      2017     Indore\n",
       "4      2017  Bangalore\n",
       "..      ...        ...\n",
       "571    2015  Hyderabad\n",
       "572    2015     Mumbai\n",
       "573    2015       Pune\n",
       "574    2015     Ranchi\n",
       "575    2015    Kolkata\n",
       "\n",
       "[118 rows x 2 columns]"
      ]
     },
     "execution_count": 19,
     "metadata": {},
     "output_type": "execute_result"
    }
   ],
   "source": [
    "#choose the season and city columns required for our analysis from the pandas dataframe\n",
    "x = dataframe[[\"season\",\"city\"]]\n",
    "\n",
    "#filter the rows to contain data corresponding to the year 2017 & 2015\n",
    "y = x[(x.season == 2017) | (x.season == 2015)]\n",
    "\n",
    "#print out the value to confirm if the rows are filtered\n",
    "y"
   ]
  },
  {
   "cell_type": "code",
   "execution_count": 20,
   "id": "60a12c34",
   "metadata": {},
   "outputs": [
    {
     "data": {
      "text/html": [
       "<div>\n",
       "<style scoped>\n",
       "    .dataframe tbody tr th:only-of-type {\n",
       "        vertical-align: middle;\n",
       "    }\n",
       "\n",
       "    .dataframe tbody tr th {\n",
       "        vertical-align: top;\n",
       "    }\n",
       "\n",
       "    .dataframe thead th {\n",
       "        text-align: right;\n",
       "    }\n",
       "</style>\n",
       "<table border=\"1\" class=\"dataframe\">\n",
       "  <thead>\n",
       "    <tr style=\"text-align: right;\">\n",
       "      <th></th>\n",
       "      <th>season</th>\n",
       "      <th>city</th>\n",
       "      <th>freq</th>\n",
       "    </tr>\n",
       "  </thead>\n",
       "  <tbody>\n",
       "    <tr>\n",
       "      <th>0</th>\n",
       "      <td>2017</td>\n",
       "      <td>Hyderabad</td>\n",
       "      <td>8</td>\n",
       "    </tr>\n",
       "    <tr>\n",
       "      <th>1</th>\n",
       "      <td>2017</td>\n",
       "      <td>Pune</td>\n",
       "      <td>7</td>\n",
       "    </tr>\n",
       "    <tr>\n",
       "      <th>2</th>\n",
       "      <td>2017</td>\n",
       "      <td>Rajkot</td>\n",
       "      <td>5</td>\n",
       "    </tr>\n",
       "    <tr>\n",
       "      <th>3</th>\n",
       "      <td>2017</td>\n",
       "      <td>Indore</td>\n",
       "      <td>3</td>\n",
       "    </tr>\n",
       "    <tr>\n",
       "      <th>4</th>\n",
       "      <td>2017</td>\n",
       "      <td>Bangalore</td>\n",
       "      <td>8</td>\n",
       "    </tr>\n",
       "    <tr>\n",
       "      <th>...</th>\n",
       "      <td>...</td>\n",
       "      <td>...</td>\n",
       "      <td>...</td>\n",
       "    </tr>\n",
       "    <tr>\n",
       "      <th>571</th>\n",
       "      <td>2015</td>\n",
       "      <td>Hyderabad</td>\n",
       "      <td>4</td>\n",
       "    </tr>\n",
       "    <tr>\n",
       "      <th>572</th>\n",
       "      <td>2015</td>\n",
       "      <td>Mumbai</td>\n",
       "      <td>11</td>\n",
       "    </tr>\n",
       "    <tr>\n",
       "      <th>573</th>\n",
       "      <td>2015</td>\n",
       "      <td>Pune</td>\n",
       "      <td>4</td>\n",
       "    </tr>\n",
       "    <tr>\n",
       "      <th>574</th>\n",
       "      <td>2015</td>\n",
       "      <td>Ranchi</td>\n",
       "      <td>1</td>\n",
       "    </tr>\n",
       "    <tr>\n",
       "      <th>575</th>\n",
       "      <td>2015</td>\n",
       "      <td>Kolkata</td>\n",
       "      <td>7</td>\n",
       "    </tr>\n",
       "  </tbody>\n",
       "</table>\n",
       "<p>118 rows × 3 columns</p>\n",
       "</div>"
      ],
      "text/plain": [
       "     season       city  freq\n",
       "0      2017  Hyderabad     8\n",
       "1      2017       Pune     7\n",
       "2      2017     Rajkot     5\n",
       "3      2017     Indore     3\n",
       "4      2017  Bangalore     8\n",
       "..      ...        ...   ...\n",
       "571    2015  Hyderabad     4\n",
       "572    2015     Mumbai    11\n",
       "573    2015       Pune     4\n",
       "574    2015     Ranchi     1\n",
       "575    2015    Kolkata     7\n",
       "\n",
       "[118 rows x 3 columns]"
      ]
     },
     "execution_count": 20,
     "metadata": {},
     "output_type": "execute_result"
    }
   ],
   "source": [
    "#Find the frequency of the matches conducted in each cities per year(2015 & 2017 in my case)\n",
    "freqMatchesData = y.assign(freq=y.groupby(['season','city'])['city'].transform('count'))\n",
    "\n",
    "#print the frequency dataframe\n",
    "freqMatchesData  "
   ]
  },
  {
   "cell_type": "markdown",
   "id": "2f5d3c53",
   "metadata": {},
   "source": [
    "Now, consider using pivot_table to pivot the data in *freqMatchesData* dataframe which helps in plotting the grouped frequency plot.\n",
    "\n",
    "Please read this article for more Referency on pivot_table: https://pandas.pydata.org/pandas-docs/stable/reference/api/pandas.pivot_table.html"
   ]
  },
  {
   "cell_type": "code",
   "execution_count": 21,
   "id": "cfff3c8e",
   "metadata": {},
   "outputs": [
    {
     "data": {
      "text/plain": [
       "<AxesSubplot:xlabel='city'>"
      ]
     },
     "execution_count": 21,
     "metadata": {},
     "output_type": "execute_result"
    },
    {
     "data": {
      "image/png": "[encoded data removed]",
      "text/plain": [
       "<Figure size 432x288 with 1 Axes>"
      ]
     },
     "metadata": {
      "needs_background": "light"
     },
     "output_type": "display_data"
    }
   ],
   "source": [
    "freqMatchesData.pivot_table(index=\"city\",columns=\"season\",values='freq',fill_value=0).plot(kind='bar')"
   ]
  },
  {
   "cell_type": "markdown",
   "id": "d54b2a42",
   "metadata": {},
   "source": [
    "## Relative Grouped Frequency"
   ]
  },
  {
   "cell_type": "markdown",
   "id": "cbf07028",
   "metadata": {},
   "source": [
    "This helps in analyzing on how the proportion of data has vaired across, based on the parameter in consideration. \n",
    "\n",
    "*For Example: How does the percentage of matches conducted in all venues vary in 2015 to that of 2017*"
   ]
  },
  {
   "cell_type": "code",
   "execution_count": 22,
   "id": "bacc2751",
   "metadata": {},
   "outputs": [
    {
     "data": {
      "text/html": [
       "<div>\n",
       "<style scoped>\n",
       "    .dataframe tbody tr th:only-of-type {\n",
       "        vertical-align: middle;\n",
       "    }\n",
       "\n",
       "    .dataframe tbody tr th {\n",
       "        vertical-align: top;\n",
       "    }\n",
       "\n",
       "    .dataframe thead th {\n",
       "        text-align: right;\n",
       "    }\n",
       "</style>\n",
       "<table border=\"1\" class=\"dataframe\">\n",
       "  <thead>\n",
       "    <tr style=\"text-align: right;\">\n",
       "      <th></th>\n",
       "      <th>season</th>\n",
       "      <th>city</th>\n",
       "      <th>freq</th>\n",
       "      <th>sumBySeason</th>\n",
       "      <th>rel_freq</th>\n",
       "    </tr>\n",
       "  </thead>\n",
       "  <tbody>\n",
       "    <tr>\n",
       "      <th>0</th>\n",
       "      <td>2017</td>\n",
       "      <td>Hyderabad</td>\n",
       "      <td>8</td>\n",
       "      <td>59</td>\n",
       "      <td>0.135593</td>\n",
       "    </tr>\n",
       "    <tr>\n",
       "      <th>1</th>\n",
       "      <td>2017</td>\n",
       "      <td>Pune</td>\n",
       "      <td>7</td>\n",
       "      <td>59</td>\n",
       "      <td>0.118644</td>\n",
       "    </tr>\n",
       "    <tr>\n",
       "      <th>2</th>\n",
       "      <td>2017</td>\n",
       "      <td>Rajkot</td>\n",
       "      <td>5</td>\n",
       "      <td>59</td>\n",
       "      <td>0.084746</td>\n",
       "    </tr>\n",
       "    <tr>\n",
       "      <th>3</th>\n",
       "      <td>2017</td>\n",
       "      <td>Indore</td>\n",
       "      <td>3</td>\n",
       "      <td>59</td>\n",
       "      <td>0.050847</td>\n",
       "    </tr>\n",
       "    <tr>\n",
       "      <th>4</th>\n",
       "      <td>2017</td>\n",
       "      <td>Bangalore</td>\n",
       "      <td>8</td>\n",
       "      <td>59</td>\n",
       "      <td>0.135593</td>\n",
       "    </tr>\n",
       "    <tr>\n",
       "      <th>...</th>\n",
       "      <td>...</td>\n",
       "      <td>...</td>\n",
       "      <td>...</td>\n",
       "      <td>...</td>\n",
       "      <td>...</td>\n",
       "    </tr>\n",
       "    <tr>\n",
       "      <th>571</th>\n",
       "      <td>2015</td>\n",
       "      <td>Hyderabad</td>\n",
       "      <td>4</td>\n",
       "      <td>59</td>\n",
       "      <td>0.067797</td>\n",
       "    </tr>\n",
       "    <tr>\n",
       "      <th>572</th>\n",
       "      <td>2015</td>\n",
       "      <td>Mumbai</td>\n",
       "      <td>11</td>\n",
       "      <td>59</td>\n",
       "      <td>0.186441</td>\n",
       "    </tr>\n",
       "    <tr>\n",
       "      <th>573</th>\n",
       "      <td>2015</td>\n",
       "      <td>Pune</td>\n",
       "      <td>4</td>\n",
       "      <td>59</td>\n",
       "      <td>0.067797</td>\n",
       "    </tr>\n",
       "    <tr>\n",
       "      <th>574</th>\n",
       "      <td>2015</td>\n",
       "      <td>Ranchi</td>\n",
       "      <td>1</td>\n",
       "      <td>59</td>\n",
       "      <td>0.016949</td>\n",
       "    </tr>\n",
       "    <tr>\n",
       "      <th>575</th>\n",
       "      <td>2015</td>\n",
       "      <td>Kolkata</td>\n",
       "      <td>7</td>\n",
       "      <td>59</td>\n",
       "      <td>0.118644</td>\n",
       "    </tr>\n",
       "  </tbody>\n",
       "</table>\n",
       "<p>118 rows × 5 columns</p>\n",
       "</div>"
      ],
      "text/plain": [
       "     season       city  freq  sumBySeason  rel_freq\n",
       "0      2017  Hyderabad     8           59  0.135593\n",
       "1      2017       Pune     7           59  0.118644\n",
       "2      2017     Rajkot     5           59  0.084746\n",
       "3      2017     Indore     3           59  0.050847\n",
       "4      2017  Bangalore     8           59  0.135593\n",
       "..      ...        ...   ...          ...       ...\n",
       "571    2015  Hyderabad     4           59  0.067797\n",
       "572    2015     Mumbai    11           59  0.186441\n",
       "573    2015       Pune     4           59  0.067797\n",
       "574    2015     Ranchi     1           59  0.016949\n",
       "575    2015    Kolkata     7           59  0.118644\n",
       "\n",
       "[118 rows x 5 columns]"
      ]
     },
     "execution_count": 22,
     "metadata": {},
     "output_type": "execute_result"
    }
   ],
   "source": [
    "#create new column which stores values of total matches conducted per season. \n",
    "ReleativeData = freqMatchesData.assign(sumBySeason = freqMatchesData.groupby('season')['city'].transform('count'))\n",
    "\n",
    "#Create a relative frequency data by dividing frequency of matches conducted by total matches that season\n",
    "ReleativeData['rel_freq'] = ReleativeData['freq']/ReleativeData['sumBySeason']\n",
    "\n",
    "ReleativeData"
   ]
  },
  {
   "cell_type": "code",
   "execution_count": 23,
   "id": "05466216",
   "metadata": {},
   "outputs": [
    {
     "data": {
      "text/plain": [
       "<AxesSubplot:xlabel='city'>"
      ]
     },
     "execution_count": 23,
     "metadata": {},
     "output_type": "execute_result"
    },
    {
     "data": {
      "image/png": "[encoded data removed]",
      "text/plain": [
       "<Figure size 432x288 with 1 Axes>"
      ]
     },
     "metadata": {
      "needs_background": "light"
     },
     "output_type": "display_data"
    }
   ],
   "source": [
    "#Create a pivot table with new rows as different cities ans values as releative frequency. Use column headers as current season\n",
    "# values as before.\n",
    "ReleativeData.pivot_table(index=\"city\",columns=\"season\",values='rel_freq',fill_value=0).plot(kind='bar')"
   ]
  }
 ],
 "metadata": {
  "kernelspec": {
   "display_name": "Python 3",
   "language": "python",
   "name": "python3"
  },
  "language_info": {
   "codemirror_mode": {
    "name": "ipython",
    "version": 3
   },
   "file_extension": ".py",
   "mimetype": "text/x-python",
   "name": "python",
   "nbconvert_exporter": "python",
   "pygments_lexer": "ipython3",
   "version": "3.8.8"
  }
 },
 "nbformat": 4,
 "nbformat_minor": 5
}
