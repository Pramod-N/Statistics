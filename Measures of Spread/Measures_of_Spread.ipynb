{
 "cells": [
  {
   "cell_type": "code",
   "execution_count": 1,
   "id": "e12b3f93",
   "metadata": {},
   "outputs": [],
   "source": [
    "import numpy as np\n",
    "import matplotlib.pyplot as plt\n",
    "import pandas as pd"
   ]
  },
  {
   "cell_type": "markdown",
   "id": "dec0fddf",
   "metadata": {},
   "source": [
    "## Read the data"
   ]
  },
  {
   "cell_type": "code",
   "execution_count": 3,
   "id": "c8add664",
   "metadata": {},
   "outputs": [],
   "source": [
    "sample = pd.read_csv(r\".\\bank\\bank-full.csv\"\\\n",
    "                    ,sep=';')"
   ]
  },
  {
   "cell_type": "code",
   "execution_count": 64,
   "id": "1c7c7301",
   "metadata": {},
   "outputs": [
    {
     "data": {
      "text/html": [
       "<div>\n",
       "<style scoped>\n",
       "    .dataframe tbody tr th:only-of-type {\n",
       "        vertical-align: middle;\n",
       "    }\n",
       "\n",
       "    .dataframe tbody tr th {\n",
       "        vertical-align: top;\n",
       "    }\n",
       "\n",
       "    .dataframe thead th {\n",
       "        text-align: right;\n",
       "    }\n",
       "</style>\n",
       "<table border=\"1\" class=\"dataframe\">\n",
       "  <thead>\n",
       "    <tr style=\"text-align: right;\">\n",
       "      <th></th>\n",
       "      <th>age</th>\n",
       "      <th>balance</th>\n",
       "      <th>day</th>\n",
       "      <th>duration</th>\n",
       "      <th>campaign</th>\n",
       "      <th>pdays</th>\n",
       "      <th>previous</th>\n",
       "    </tr>\n",
       "  </thead>\n",
       "  <tbody>\n",
       "    <tr>\n",
       "      <th>count</th>\n",
       "      <td>45211.000000</td>\n",
       "      <td>45211.000000</td>\n",
       "      <td>45211.000000</td>\n",
       "      <td>45211.000000</td>\n",
       "      <td>45211.000000</td>\n",
       "      <td>45211.000000</td>\n",
       "      <td>45211.000000</td>\n",
       "    </tr>\n",
       "    <tr>\n",
       "      <th>mean</th>\n",
       "      <td>40.936210</td>\n",
       "      <td>1362.272058</td>\n",
       "      <td>15.806419</td>\n",
       "      <td>258.163080</td>\n",
       "      <td>2.763841</td>\n",
       "      <td>40.197828</td>\n",
       "      <td>0.580323</td>\n",
       "    </tr>\n",
       "    <tr>\n",
       "      <th>std</th>\n",
       "      <td>10.618762</td>\n",
       "      <td>3044.765829</td>\n",
       "      <td>8.322476</td>\n",
       "      <td>257.527812</td>\n",
       "      <td>3.098021</td>\n",
       "      <td>100.128746</td>\n",
       "      <td>2.303441</td>\n",
       "    </tr>\n",
       "    <tr>\n",
       "      <th>min</th>\n",
       "      <td>18.000000</td>\n",
       "      <td>-8019.000000</td>\n",
       "      <td>1.000000</td>\n",
       "      <td>0.000000</td>\n",
       "      <td>1.000000</td>\n",
       "      <td>-1.000000</td>\n",
       "      <td>0.000000</td>\n",
       "    </tr>\n",
       "    <tr>\n",
       "      <th>25%</th>\n",
       "      <td>33.000000</td>\n",
       "      <td>72.000000</td>\n",
       "      <td>8.000000</td>\n",
       "      <td>103.000000</td>\n",
       "      <td>1.000000</td>\n",
       "      <td>-1.000000</td>\n",
       "      <td>0.000000</td>\n",
       "    </tr>\n",
       "    <tr>\n",
       "      <th>50%</th>\n",
       "      <td>39.000000</td>\n",
       "      <td>448.000000</td>\n",
       "      <td>16.000000</td>\n",
       "      <td>180.000000</td>\n",
       "      <td>2.000000</td>\n",
       "      <td>-1.000000</td>\n",
       "      <td>0.000000</td>\n",
       "    </tr>\n",
       "    <tr>\n",
       "      <th>75%</th>\n",
       "      <td>48.000000</td>\n",
       "      <td>1428.000000</td>\n",
       "      <td>21.000000</td>\n",
       "      <td>319.000000</td>\n",
       "      <td>3.000000</td>\n",
       "      <td>-1.000000</td>\n",
       "      <td>0.000000</td>\n",
       "    </tr>\n",
       "    <tr>\n",
       "      <th>max</th>\n",
       "      <td>95.000000</td>\n",
       "      <td>102127.000000</td>\n",
       "      <td>31.000000</td>\n",
       "      <td>4918.000000</td>\n",
       "      <td>63.000000</td>\n",
       "      <td>871.000000</td>\n",
       "      <td>275.000000</td>\n",
       "    </tr>\n",
       "  </tbody>\n",
       "</table>\n",
       "</div>"
      ],
      "text/plain": [
       "                age        balance           day      duration      campaign  \\\n",
       "count  45211.000000   45211.000000  45211.000000  45211.000000  45211.000000   \n",
       "mean      40.936210    1362.272058     15.806419    258.163080      2.763841   \n",
       "std       10.618762    3044.765829      8.322476    257.527812      3.098021   \n",
       "min       18.000000   -8019.000000      1.000000      0.000000      1.000000   \n",
       "25%       33.000000      72.000000      8.000000    103.000000      1.000000   \n",
       "50%       39.000000     448.000000     16.000000    180.000000      2.000000   \n",
       "75%       48.000000    1428.000000     21.000000    319.000000      3.000000   \n",
       "max       95.000000  102127.000000     31.000000   4918.000000     63.000000   \n",
       "\n",
       "              pdays      previous  \n",
       "count  45211.000000  45211.000000  \n",
       "mean      40.197828      0.580323  \n",
       "std      100.128746      2.303441  \n",
       "min       -1.000000      0.000000  \n",
       "25%       -1.000000      0.000000  \n",
       "50%       -1.000000      0.000000  \n",
       "75%       -1.000000      0.000000  \n",
       "max      871.000000    275.000000  "
      ]
     },
     "execution_count": 64,
     "metadata": {},
     "output_type": "execute_result"
    }
   ],
   "source": [
    "sample.describe()"
   ]
  },
  {
   "cell_type": "code",
   "execution_count": 65,
   "id": "f81adee0",
   "metadata": {},
   "outputs": [
    {
     "data": {
      "text/html": [
       "<div>\n",
       "<style scoped>\n",
       "    .dataframe tbody tr th:only-of-type {\n",
       "        vertical-align: middle;\n",
       "    }\n",
       "\n",
       "    .dataframe tbody tr th {\n",
       "        vertical-align: top;\n",
       "    }\n",
       "\n",
       "    .dataframe thead th {\n",
       "        text-align: right;\n",
       "    }\n",
       "</style>\n",
       "<table border=\"1\" class=\"dataframe\">\n",
       "  <thead>\n",
       "    <tr style=\"text-align: right;\">\n",
       "      <th></th>\n",
       "      <th>age</th>\n",
       "      <th>job</th>\n",
       "      <th>marital</th>\n",
       "      <th>education</th>\n",
       "      <th>default</th>\n",
       "      <th>balance</th>\n",
       "      <th>housing</th>\n",
       "      <th>loan</th>\n",
       "      <th>contact</th>\n",
       "      <th>day</th>\n",
       "      <th>month</th>\n",
       "      <th>duration</th>\n",
       "      <th>campaign</th>\n",
       "      <th>pdays</th>\n",
       "      <th>previous</th>\n",
       "      <th>poutcome</th>\n",
       "      <th>y</th>\n",
       "    </tr>\n",
       "  </thead>\n",
       "  <tbody>\n",
       "    <tr>\n",
       "      <th>0</th>\n",
       "      <td>58</td>\n",
       "      <td>management</td>\n",
       "      <td>married</td>\n",
       "      <td>tertiary</td>\n",
       "      <td>no</td>\n",
       "      <td>2143</td>\n",
       "      <td>yes</td>\n",
       "      <td>no</td>\n",
       "      <td>unknown</td>\n",
       "      <td>5</td>\n",
       "      <td>may</td>\n",
       "      <td>261</td>\n",
       "      <td>1</td>\n",
       "      <td>-1</td>\n",
       "      <td>0</td>\n",
       "      <td>unknown</td>\n",
       "      <td>no</td>\n",
       "    </tr>\n",
       "    <tr>\n",
       "      <th>1</th>\n",
       "      <td>44</td>\n",
       "      <td>technician</td>\n",
       "      <td>single</td>\n",
       "      <td>secondary</td>\n",
       "      <td>no</td>\n",
       "      <td>29</td>\n",
       "      <td>yes</td>\n",
       "      <td>no</td>\n",
       "      <td>unknown</td>\n",
       "      <td>5</td>\n",
       "      <td>may</td>\n",
       "      <td>151</td>\n",
       "      <td>1</td>\n",
       "      <td>-1</td>\n",
       "      <td>0</td>\n",
       "      <td>unknown</td>\n",
       "      <td>no</td>\n",
       "    </tr>\n",
       "    <tr>\n",
       "      <th>2</th>\n",
       "      <td>33</td>\n",
       "      <td>entrepreneur</td>\n",
       "      <td>married</td>\n",
       "      <td>secondary</td>\n",
       "      <td>no</td>\n",
       "      <td>2</td>\n",
       "      <td>yes</td>\n",
       "      <td>yes</td>\n",
       "      <td>unknown</td>\n",
       "      <td>5</td>\n",
       "      <td>may</td>\n",
       "      <td>76</td>\n",
       "      <td>1</td>\n",
       "      <td>-1</td>\n",
       "      <td>0</td>\n",
       "      <td>unknown</td>\n",
       "      <td>no</td>\n",
       "    </tr>\n",
       "    <tr>\n",
       "      <th>3</th>\n",
       "      <td>47</td>\n",
       "      <td>blue-collar</td>\n",
       "      <td>married</td>\n",
       "      <td>unknown</td>\n",
       "      <td>no</td>\n",
       "      <td>1506</td>\n",
       "      <td>yes</td>\n",
       "      <td>no</td>\n",
       "      <td>unknown</td>\n",
       "      <td>5</td>\n",
       "      <td>may</td>\n",
       "      <td>92</td>\n",
       "      <td>1</td>\n",
       "      <td>-1</td>\n",
       "      <td>0</td>\n",
       "      <td>unknown</td>\n",
       "      <td>no</td>\n",
       "    </tr>\n",
       "    <tr>\n",
       "      <th>4</th>\n",
       "      <td>33</td>\n",
       "      <td>unknown</td>\n",
       "      <td>single</td>\n",
       "      <td>unknown</td>\n",
       "      <td>no</td>\n",
       "      <td>1</td>\n",
       "      <td>no</td>\n",
       "      <td>no</td>\n",
       "      <td>unknown</td>\n",
       "      <td>5</td>\n",
       "      <td>may</td>\n",
       "      <td>198</td>\n",
       "      <td>1</td>\n",
       "      <td>-1</td>\n",
       "      <td>0</td>\n",
       "      <td>unknown</td>\n",
       "      <td>no</td>\n",
       "    </tr>\n",
       "    <tr>\n",
       "      <th>...</th>\n",
       "      <td>...</td>\n",
       "      <td>...</td>\n",
       "      <td>...</td>\n",
       "      <td>...</td>\n",
       "      <td>...</td>\n",
       "      <td>...</td>\n",
       "      <td>...</td>\n",
       "      <td>...</td>\n",
       "      <td>...</td>\n",
       "      <td>...</td>\n",
       "      <td>...</td>\n",
       "      <td>...</td>\n",
       "      <td>...</td>\n",
       "      <td>...</td>\n",
       "      <td>...</td>\n",
       "      <td>...</td>\n",
       "      <td>...</td>\n",
       "    </tr>\n",
       "    <tr>\n",
       "      <th>45206</th>\n",
       "      <td>51</td>\n",
       "      <td>technician</td>\n",
       "      <td>married</td>\n",
       "      <td>tertiary</td>\n",
       "      <td>no</td>\n",
       "      <td>825</td>\n",
       "      <td>no</td>\n",
       "      <td>no</td>\n",
       "      <td>cellular</td>\n",
       "      <td>17</td>\n",
       "      <td>nov</td>\n",
       "      <td>977</td>\n",
       "      <td>3</td>\n",
       "      <td>-1</td>\n",
       "      <td>0</td>\n",
       "      <td>unknown</td>\n",
       "      <td>yes</td>\n",
       "    </tr>\n",
       "    <tr>\n",
       "      <th>45207</th>\n",
       "      <td>71</td>\n",
       "      <td>retired</td>\n",
       "      <td>divorced</td>\n",
       "      <td>primary</td>\n",
       "      <td>no</td>\n",
       "      <td>1729</td>\n",
       "      <td>no</td>\n",
       "      <td>no</td>\n",
       "      <td>cellular</td>\n",
       "      <td>17</td>\n",
       "      <td>nov</td>\n",
       "      <td>456</td>\n",
       "      <td>2</td>\n",
       "      <td>-1</td>\n",
       "      <td>0</td>\n",
       "      <td>unknown</td>\n",
       "      <td>yes</td>\n",
       "    </tr>\n",
       "    <tr>\n",
       "      <th>45208</th>\n",
       "      <td>72</td>\n",
       "      <td>retired</td>\n",
       "      <td>married</td>\n",
       "      <td>secondary</td>\n",
       "      <td>no</td>\n",
       "      <td>5715</td>\n",
       "      <td>no</td>\n",
       "      <td>no</td>\n",
       "      <td>cellular</td>\n",
       "      <td>17</td>\n",
       "      <td>nov</td>\n",
       "      <td>1127</td>\n",
       "      <td>5</td>\n",
       "      <td>184</td>\n",
       "      <td>3</td>\n",
       "      <td>success</td>\n",
       "      <td>yes</td>\n",
       "    </tr>\n",
       "    <tr>\n",
       "      <th>45209</th>\n",
       "      <td>57</td>\n",
       "      <td>blue-collar</td>\n",
       "      <td>married</td>\n",
       "      <td>secondary</td>\n",
       "      <td>no</td>\n",
       "      <td>668</td>\n",
       "      <td>no</td>\n",
       "      <td>no</td>\n",
       "      <td>telephone</td>\n",
       "      <td>17</td>\n",
       "      <td>nov</td>\n",
       "      <td>508</td>\n",
       "      <td>4</td>\n",
       "      <td>-1</td>\n",
       "      <td>0</td>\n",
       "      <td>unknown</td>\n",
       "      <td>no</td>\n",
       "    </tr>\n",
       "    <tr>\n",
       "      <th>45210</th>\n",
       "      <td>37</td>\n",
       "      <td>entrepreneur</td>\n",
       "      <td>married</td>\n",
       "      <td>secondary</td>\n",
       "      <td>no</td>\n",
       "      <td>2971</td>\n",
       "      <td>no</td>\n",
       "      <td>no</td>\n",
       "      <td>cellular</td>\n",
       "      <td>17</td>\n",
       "      <td>nov</td>\n",
       "      <td>361</td>\n",
       "      <td>2</td>\n",
       "      <td>188</td>\n",
       "      <td>11</td>\n",
       "      <td>other</td>\n",
       "      <td>no</td>\n",
       "    </tr>\n",
       "  </tbody>\n",
       "</table>\n",
       "<p>45211 rows × 17 columns</p>\n",
       "</div>"
      ],
      "text/plain": [
       "       age           job   marital  education default  balance housing loan  \\\n",
       "0       58    management   married   tertiary      no     2143     yes   no   \n",
       "1       44    technician    single  secondary      no       29     yes   no   \n",
       "2       33  entrepreneur   married  secondary      no        2     yes  yes   \n",
       "3       47   blue-collar   married    unknown      no     1506     yes   no   \n",
       "4       33       unknown    single    unknown      no        1      no   no   \n",
       "...    ...           ...       ...        ...     ...      ...     ...  ...   \n",
       "45206   51    technician   married   tertiary      no      825      no   no   \n",
       "45207   71       retired  divorced    primary      no     1729      no   no   \n",
       "45208   72       retired   married  secondary      no     5715      no   no   \n",
       "45209   57   blue-collar   married  secondary      no      668      no   no   \n",
       "45210   37  entrepreneur   married  secondary      no     2971      no   no   \n",
       "\n",
       "         contact  day month  duration  campaign  pdays  previous poutcome    y  \n",
       "0        unknown    5   may       261         1     -1         0  unknown   no  \n",
       "1        unknown    5   may       151         1     -1         0  unknown   no  \n",
       "2        unknown    5   may        76         1     -1         0  unknown   no  \n",
       "3        unknown    5   may        92         1     -1         0  unknown   no  \n",
       "4        unknown    5   may       198         1     -1         0  unknown   no  \n",
       "...          ...  ...   ...       ...       ...    ...       ...      ...  ...  \n",
       "45206   cellular   17   nov       977         3     -1         0  unknown  yes  \n",
       "45207   cellular   17   nov       456         2     -1         0  unknown  yes  \n",
       "45208   cellular   17   nov      1127         5    184         3  success  yes  \n",
       "45209  telephone   17   nov       508         4     -1         0  unknown   no  \n",
       "45210   cellular   17   nov       361         2    188        11    other   no  \n",
       "\n",
       "[45211 rows x 17 columns]"
      ]
     },
     "execution_count": 65,
     "metadata": {},
     "output_type": "execute_result"
    }
   ],
   "source": [
    "sample"
   ]
  },
  {
   "cell_type": "markdown",
   "id": "7b47bbb9",
   "metadata": {},
   "source": [
    "## Range"
   ]
  },
  {
   "cell_type": "markdown",
   "id": "2a9168c3",
   "metadata": {},
   "source": [
    "Range of a data is given by the difference in the maximum and minimum elements in the data under observation."
   ]
  },
  {
   "cell_type": "code",
   "execution_count": 66,
   "id": "c1c133ba",
   "metadata": {},
   "outputs": [],
   "source": [
    "score = sample[\"age\"]"
   ]
  },
  {
   "cell_type": "code",
   "execution_count": 67,
   "id": "fd0f6ba6",
   "metadata": {},
   "outputs": [
    {
     "name": "stdout",
     "output_type": "stream",
     "text": [
      "The maximum value: 95\n",
      "The minimum value: 18\n",
      "The range of the data is: 77\n"
     ]
    }
   ],
   "source": [
    "minimum_value  = np.min(score)\n",
    "maximum_value = np.max(score)\n",
    "\n",
    "print(\"The maximum value:\",maximum_value)\n",
    "print(\"The minimum value:\",minimum_value)\n",
    "print(\"The range of the data is:\",(maximum_value - minimum_value))"
   ]
  },
  {
   "cell_type": "code",
   "execution_count": 68,
   "id": "082792af",
   "metadata": {},
   "outputs": [],
   "source": [
    "def plot_fn(maximum_value,minimum_value,histogram,score,bins):\n",
    "    plt.hist(score,bins,color = 'gray', alpha=0.5, histtype='bar', ec='black')\n",
    "    plt.axvline(x=maximum_value, color='red')\n",
    "    plt.axvline(x=minimum_value, color='green')\n",
    "    plt.show()"
   ]
  },
  {
   "cell_type": "code",
   "execution_count": 69,
   "id": "325896ad",
   "metadata": {},
   "outputs": [],
   "source": [
    "histogram, bins = np.histogram(score,bins=np.arange(minimum_value - 0.5,maximum_value+0.5,5))"
   ]
  },
  {
   "cell_type": "code",
   "execution_count": 70,
   "id": "e7a4d8bd",
   "metadata": {},
   "outputs": [
    {
     "data": {
      "text/plain": [
       "(array([ 305, 2745, 8061, 9298, 6841, 5776, 4777, 4114, 2333,  327,  253,\n",
       "         196,  122,   49,    9], dtype=int64),\n",
       " array([17.5, 22.5, 27.5, 32.5, 37.5, 42.5, 47.5, 52.5, 57.5, 62.5, 67.5,\n",
       "        72.5, 77.5, 82.5, 87.5, 92.5]))"
      ]
     },
     "execution_count": 70,
     "metadata": {},
     "output_type": "execute_result"
    }
   ],
   "source": [
    "histogram, bins"
   ]
  },
  {
   "cell_type": "code",
   "execution_count": 71,
   "id": "0f2ae95f",
   "metadata": {},
   "outputs": [
    {
     "data": {
      "image/png": "[encoded data removed]",
      "text/plain": [
       "<Figure size 432x288 with 1 Axes>"
      ]
     },
     "metadata": {
      "needs_background": "light"
     },
     "output_type": "display_data"
    }
   ],
   "source": [
    "plot_fn(maximum_value,minimum_value,histogram,score,bins)"
   ]
  },
  {
   "cell_type": "markdown",
   "id": "5d82f02b",
   "metadata": {},
   "source": [
    "The maximum value from the range looks like an outlier. If the outliers where removed the range of the dataset would have been different. \n",
    "*Example:* Most data is centered around 10-65. So, the range of ange group people is around 45. "
   ]
  },
  {
   "cell_type": "markdown",
   "id": "9e007704",
   "metadata": {},
   "source": [
    "## IQR"
   ]
  },
  {
   "cell_type": "markdown",
   "id": "0ca10206",
   "metadata": {},
   "source": [
    "IQR(Inter Quratile range) -  Q3 - Q1 "
   ]
  },
  {
   "cell_type": "markdown",
   "id": "13a04669",
   "metadata": {},
   "source": [
    "**Q1** = 25th percentile of the data \n",
    "\n",
    "**Q3** = 75th percentile of the data\n",
    "\n",
    "\n"
   ]
  },
  {
   "cell_type": "markdown",
   "id": "23976ea4",
   "metadata": {},
   "source": [
    "Percentile calculation is given by:\n",
    "\n",
    "*$L_p$ denote the position of pth percentile*\n",
    "\n",
    "$L_p = (p/100) * (n+1)$, where n denotes number of data points in a sample.\n",
    "\n",
    "$i = L_pi$ (integer part of $L_p$)\n",
    "\n",
    "$fp = L_pf$ (fractional part of $L_p$)\n",
    "\n",
    "$j = i+1$\n",
    "\n",
    "$Q_p = X_i + f_p * (X_j - X_i)$"
   ]
  },
  {
   "cell_type": "code",
   "execution_count": 72,
   "id": "01a4619c",
   "metadata": {},
   "outputs": [],
   "source": [
    "score = score.sort_values()"
   ]
  },
  {
   "cell_type": "code",
   "execution_count": 73,
   "id": "41849895",
   "metadata": {},
   "outputs": [
    {
     "name": "stdout",
     "output_type": "stream",
     "text": [
      "Quartile 1(Q1) =  33.0 \n",
      "\n",
      "Quartile 3(Q3) =  48.0 \n",
      "\n",
      "IQR =  15.0\n"
     ]
    }
   ],
   "source": [
    "# First quartile (Q1)\n",
    "Q1 = np.percentile(score, 25, interpolation = 'midpoint')\n",
    "\n",
    "print(\"Quartile 1(Q1) = \",Q1,\"\\n\")\n",
    "\n",
    "# Third quartile (Q3)\n",
    "Q3 = np.percentile(score, 75, interpolation = 'midpoint')\n",
    "\n",
    "print(\"Quartile 3(Q3) = \",Q3,\"\\n\")\n",
    "\n",
    "# Interquaritle range (IQR)\n",
    "IQR = Q3 - Q1\n",
    "\n",
    "print(\"IQR = \",IQR)\n"
   ]
  },
  {
   "cell_type": "markdown",
   "id": "b9ea4328",
   "metadata": {},
   "source": [
    "The IQR is not sensitive to outliers as it always considers 50% of the data between 25th & 75th percentile. \n",
    "\n",
    "*Formula for outliers:*\n",
    "\n",
    "$Q1 - (1.5 * IQR)$ or $Q3 + (1.5 * IQR)$"
   ]
  },
  {
   "cell_type": "code",
   "execution_count": 74,
   "id": "2ad4c7a3",
   "metadata": {},
   "outputs": [
    {
     "name": "stdout",
     "output_type": "stream",
     "text": [
      "On the left, the values below  10.5  are outliers\n",
      "On the right, the values above  70.5  are outliers\n"
     ]
    }
   ],
   "source": [
    "left_outliers = Q1 - (1.5 * IQR)\n",
    "right_outliers = Q3 + (1.5 * IQR)\n",
    "\n",
    "print(\"On the left, the values below \",left_outliers,\" are outliers\")\n",
    "print(\"On the right, the values above \",right_outliers,\" are outliers\")"
   ]
  },
  {
   "cell_type": "markdown",
   "id": "ce849647",
   "metadata": {},
   "source": [
    "The IQR is not susceptible to outliers as it always consider data within the range of above 25 percentile & below 75 percentile"
   ]
  },
  {
   "cell_type": "markdown",
   "id": "ca831464",
   "metadata": {},
   "source": [
    "The median of the data is considered to be the 50th percentile and is Q2"
   ]
  },
  {
   "cell_type": "code",
   "execution_count": 75,
   "id": "ab617ce4",
   "metadata": {},
   "outputs": [],
   "source": [
    "Q2 = np.median(score)"
   ]
  },
  {
   "cell_type": "code",
   "execution_count": 76,
   "id": "503d1c1f",
   "metadata": {},
   "outputs": [],
   "source": [
    "def plot_Quartiles(Quartile_number,color):\n",
    "    plt.axvline(x=Quartile_number,color=color)"
   ]
  },
  {
   "cell_type": "code",
   "execution_count": 77,
   "id": "47a7711d",
   "metadata": {},
   "outputs": [],
   "source": [
    "def plot_IQR(Q1,Q2,Q3,histogram,bins,score):\n",
    "    plt.hist(score,bins,color = 'gray', alpha=0.5, histtype='bar', ec='black')\n",
    "    plot_Quartiles(Q1,\"green\")\n",
    "    plot_Quartiles(Q2,\"blue\")\n",
    "    plot_Quartiles(Q3,\"red\")\n",
    "    plt.axvline(x=right_outliers,color=\"brown\",linestyle='--')\n",
    "    plt.axvline(x=left_outliers,color=\"magenta\",linestyle='--')\n",
    "    plt.legend([\"Q1\",\"Q2\",\"Q3\",\"Max End\",\"Min End\"],loc='upper left', bbox_to_anchor=(1.05, 1))\n",
    "    plt.show()"
   ]
  },
  {
   "cell_type": "code",
   "execution_count": 78,
   "id": "aa1e5127",
   "metadata": {},
   "outputs": [
    {
     "data": {
      "image/png": "[encoded data removed]",
      "text/plain": [
       "<Figure size 432x288 with 1 Axes>"
      ]
     },
     "metadata": {
      "needs_background": "light"
     },
     "output_type": "display_data"
    }
   ],
   "source": [
    "plot_IQR(Q1,Q2,Q3,histogram,bins,score)"
   ]
  },
  {
   "cell_type": "markdown",
   "id": "b5fb9a2b",
   "metadata": {},
   "source": [
    "Clearly we observe that the maximum value of the list is an outlier. "
   ]
  },
  {
   "cell_type": "code",
   "execution_count": 79,
   "id": "175ede8a",
   "metadata": {},
   "outputs": [
    {
     "data": {
      "text/plain": [
       "{'whiskers': [<matplotlib.lines.Line2D at 0x191910d9fd0>,\n",
       "  <matplotlib.lines.Line2D at 0x191910d9ee0>],\n",
       " 'caps': [<matplotlib.lines.Line2D at 0x191910d93d0>,\n",
       "  <matplotlib.lines.Line2D at 0x191910d97f0>],\n",
       " 'boxes': [<matplotlib.lines.Line2D at 0x191910accd0>],\n",
       " 'medians': [<matplotlib.lines.Line2D at 0x191914b7340>],\n",
       " 'fliers': [<matplotlib.lines.Line2D at 0x191914b70d0>],\n",
       " 'means': []}"
      ]
     },
     "execution_count": 79,
     "metadata": {},
     "output_type": "execute_result"
    },
    {
     "data": {
      "image/png": "[encoded data removed]",
      "text/plain": [
       "<Figure size 432x288 with 1 Axes>"
      ]
     },
     "metadata": {
      "needs_background": "light"
     },
     "output_type": "display_data"
    }
   ],
   "source": [
    "plt.boxplot(score, vert = 0)"
   ]
  },
  {
   "cell_type": "markdown",
   "id": "f3734b85",
   "metadata": {},
   "source": [
    "We see from the box plot that the data is as expected right skewed, and has couple of values after the maximum layer"
   ]
  },
  {
   "cell_type": "markdown",
   "id": "fe70743f",
   "metadata": {},
   "source": [
    "## Variance "
   ]
  },
  {
   "cell_type": "code",
   "execution_count": 80,
   "id": "40f697e8",
   "metadata": {},
   "outputs": [
    {
     "name": "stdout",
     "output_type": "stream",
     "text": [
      "The variance of the data is: 112.7581072828605\n"
     ]
    }
   ],
   "source": [
    "import statistics\n",
    "\n",
    "variance = statistics.variance(score)\n",
    "\n",
    "print(\"The variance of the data is:\",variance)"
   ]
  },
  {
   "cell_type": "markdown",
   "id": "b9c46a5f",
   "metadata": {},
   "source": [
    "## Standard Deviation"
   ]
  },
  {
   "cell_type": "code",
   "execution_count": 81,
   "id": "3e3f3e9e",
   "metadata": {},
   "outputs": [
    {
     "name": "stdout",
     "output_type": "stream",
     "text": [
      "The std dev of the data is: 10.61876204097542\n"
     ]
    }
   ],
   "source": [
    "stddev = np.sqrt(variance)\n",
    "\n",
    "print(\"The std dev of the data is:\",stddev)"
   ]
  },
  {
   "cell_type": "markdown",
   "id": "03446fa1",
   "metadata": {},
   "source": [
    "## Mean"
   ]
  },
  {
   "cell_type": "code",
   "execution_count": 82,
   "id": "a81c3df9",
   "metadata": {},
   "outputs": [
    {
     "name": "stdout",
     "output_type": "stream",
     "text": [
      "The mean of the data is: 40.93621021432837\n"
     ]
    }
   ],
   "source": [
    "mean = np.mean(score)\n",
    "\n",
    "print(\"The mean of the data is:\",mean)"
   ]
  },
  {
   "cell_type": "markdown",
   "id": "63ebfcda",
   "metadata": {},
   "source": [
    "The data varies 10 standard deviations from the mean both towards left and towards right."
   ]
  },
  {
   "cell_type": "markdown",
   "id": "5c55a289",
   "metadata": {},
   "source": [
    "# Sensitivity of Outliers"
   ]
  },
  {
   "cell_type": "code",
   "execution_count": 83,
   "id": "1b55c9f0",
   "metadata": {},
   "outputs": [],
   "source": [
    "df = score[score< right_outliers]"
   ]
  },
  {
   "cell_type": "code",
   "execution_count": 84,
   "id": "94e05b98",
   "metadata": {},
   "outputs": [
    {
     "name": "stdout",
     "output_type": "stream",
     "text": [
      "The variance of the data is: 99.56510774849566\n"
     ]
    }
   ],
   "source": [
    "new_variance = statistics.variance(df)\n",
    "\n",
    "print(\"The variance of the data is:\",new_variance)"
   ]
  },
  {
   "cell_type": "code",
   "execution_count": 85,
   "id": "5475fee3",
   "metadata": {},
   "outputs": [
    {
     "name": "stdout",
     "output_type": "stream",
     "text": [
      "The std dev of the data is: 9.978231694468498\n"
     ]
    }
   ],
   "source": [
    "new_stddev = np.sqrt(new_variance)\n",
    "\n",
    "print(\"The std dev of the data is:\",new_stddev)"
   ]
  },
  {
   "cell_type": "code",
   "execution_count": 86,
   "id": "cf6a7fc5",
   "metadata": {},
   "outputs": [
    {
     "name": "stdout",
     "output_type": "stream",
     "text": [
      "The maximum value: 70\n",
      "The minimum value: 18\n",
      "The range of the data is: 52\n"
     ]
    }
   ],
   "source": [
    "new_minimum_value  = np.min(df)\n",
    "new_maximum_value = np.max(df)\n",
    "\n",
    "print(\"The maximum value:\",new_maximum_value)\n",
    "print(\"The minimum value:\",new_minimum_value)\n",
    "print(\"The range of the data is:\",(new_maximum_value - new_minimum_value))"
   ]
  },
  {
   "cell_type": "code",
   "execution_count": 87,
   "id": "3f85fd62",
   "metadata": {},
   "outputs": [],
   "source": [
    "def PlotChangesMoS(old_val, new_val,bins, score, old_label, new_label):\n",
    "    plt.hist(score,bins,color = 'gray', alpha=0.5, histtype='bar', ec='black')\n",
    "    plt.axvline(x=old_val,color=\"brown\",linestyle='--')\n",
    "    plt.axvline(x=new_val,color=\"magenta\",linestyle='--')\n",
    "    plt.xlabel(\"age\")\n",
    "    plt.ylabel(\"frequency\")\n",
    "    plt.legend([old_label,new_label])\n",
    "    plt.show()"
   ]
  },
  {
   "cell_type": "markdown",
   "id": "dd3b496c",
   "metadata": {},
   "source": [
    "## Plot the change in Measures of Spread"
   ]
  },
  {
   "cell_type": "code",
   "execution_count": 88,
   "id": "79f6bf60",
   "metadata": {},
   "outputs": [
    {
     "name": "stdout",
     "output_type": "stream",
     "text": [
      "--------------------------------\n",
      "Std Deviation\n"
     ]
    },
    {
     "data": {
      "image/png": "[encoded data removed]",
      "text/plain": [
       "<Figure size 432x288 with 1 Axes>"
      ]
     },
     "metadata": {
      "needs_background": "light"
     },
     "output_type": "display_data"
    },
    {
     "name": "stdout",
     "output_type": "stream",
     "text": [
      "--------------------------------\n",
      "Variance\n"
     ]
    },
    {
     "data": {
      "image/png": "[encoded data removed]",
      "text/plain": [
       "<Figure size 432x288 with 1 Axes>"
      ]
     },
     "metadata": {
      "needs_background": "light"
     },
     "output_type": "display_data"
    },
    {
     "name": "stdout",
     "output_type": "stream",
     "text": [
      "--------------------------------\n",
      "Range\n"
     ]
    },
    {
     "data": {
      "image/png": "[encoded data removed]",
      "text/plain": [
       "<Figure size 432x288 with 1 Axes>"
      ]
     },
     "metadata": {
      "needs_background": "light"
     },
     "output_type": "display_data"
    }
   ],
   "source": [
    "print(\"--------------------------------\")\n",
    "print(\"Std Deviation\")\n",
    "PlotChangesMoS(stddev, new_stddev,bins, score,\"old std deviation\",\"new std deviation\")\n",
    "\n",
    "print(\"--------------------------------\")\n",
    "print(\"Variance\")\n",
    "PlotChangesMoS(variance, new_variance,bins, score,\"old variance\",\"new variance\")\n",
    "\n",
    "print(\"--------------------------------\")\n",
    "print(\"Range\")\n",
    "PlotChangesMoS((maximum_value - minimum_value),(new_maximum_value - new_minimum_value),bins, score,\"old range\",\"new range\")"
   ]
  }
 ],
 "metadata": {
  "kernelspec": {
   "display_name": "Python 3",
   "language": "python",
   "name": "python3"
  },
  "language_info": {
   "codemirror_mode": {
    "name": "ipython",
    "version": 3
   },
   "file_extension": ".py",
   "mimetype": "text/x-python",
   "name": "python",
   "nbconvert_exporter": "python",
   "pygments_lexer": "ipython3",
   "version": "3.8.8"
  }
 },
 "nbformat": 4,
 "nbformat_minor": 5
}
