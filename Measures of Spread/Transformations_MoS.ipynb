{
 "cells": [
  {
   "cell_type": "code",
   "execution_count": 2,
   "id": "e944602d",
   "metadata": {},
   "outputs": [],
   "source": [
    "import numpy as np\n",
    "import matplotlib.pyplot as plt\n",
    "import pandas as pd"
   ]
  },
  {
   "cell_type": "code",
   "execution_count": 3,
   "id": "e04fab1f",
   "metadata": {},
   "outputs": [],
   "source": [
    "sample = pd.read_csv(r\".\\bank\\bank-full.csv\"\\\n",
    "                    ,sep=';')"
   ]
  },
  {
   "cell_type": "code",
   "execution_count": 4,
   "id": "cd40a5d2",
   "metadata": {},
   "outputs": [
    {
     "data": {
      "text/html": [
       "<div>\n",
       "<style scoped>\n",
       "    .dataframe tbody tr th:only-of-type {\n",
       "        vertical-align: middle;\n",
       "    }\n",
       "\n",
       "    .dataframe tbody tr th {\n",
       "        vertical-align: top;\n",
       "    }\n",
       "\n",
       "    .dataframe thead th {\n",
       "        text-align: right;\n",
       "    }\n",
       "</style>\n",
       "<table border=\"1\" class=\"dataframe\">\n",
       "  <thead>\n",
       "    <tr style=\"text-align: right;\">\n",
       "      <th></th>\n",
       "      <th>age</th>\n",
       "      <th>balance</th>\n",
       "      <th>day</th>\n",
       "      <th>duration</th>\n",
       "      <th>campaign</th>\n",
       "      <th>pdays</th>\n",
       "      <th>previous</th>\n",
       "    </tr>\n",
       "  </thead>\n",
       "  <tbody>\n",
       "    <tr>\n",
       "      <th>count</th>\n",
       "      <td>45211.000000</td>\n",
       "      <td>45211.000000</td>\n",
       "      <td>45211.000000</td>\n",
       "      <td>45211.000000</td>\n",
       "      <td>45211.000000</td>\n",
       "      <td>45211.000000</td>\n",
       "      <td>45211.000000</td>\n",
       "    </tr>\n",
       "    <tr>\n",
       "      <th>mean</th>\n",
       "      <td>40.936210</td>\n",
       "      <td>1362.272058</td>\n",
       "      <td>15.806419</td>\n",
       "      <td>258.163080</td>\n",
       "      <td>2.763841</td>\n",
       "      <td>40.197828</td>\n",
       "      <td>0.580323</td>\n",
       "    </tr>\n",
       "    <tr>\n",
       "      <th>std</th>\n",
       "      <td>10.618762</td>\n",
       "      <td>3044.765829</td>\n",
       "      <td>8.322476</td>\n",
       "      <td>257.527812</td>\n",
       "      <td>3.098021</td>\n",
       "      <td>100.128746</td>\n",
       "      <td>2.303441</td>\n",
       "    </tr>\n",
       "    <tr>\n",
       "      <th>min</th>\n",
       "      <td>18.000000</td>\n",
       "      <td>-8019.000000</td>\n",
       "      <td>1.000000</td>\n",
       "      <td>0.000000</td>\n",
       "      <td>1.000000</td>\n",
       "      <td>-1.000000</td>\n",
       "      <td>0.000000</td>\n",
       "    </tr>\n",
       "    <tr>\n",
       "      <th>25%</th>\n",
       "      <td>33.000000</td>\n",
       "      <td>72.000000</td>\n",
       "      <td>8.000000</td>\n",
       "      <td>103.000000</td>\n",
       "      <td>1.000000</td>\n",
       "      <td>-1.000000</td>\n",
       "      <td>0.000000</td>\n",
       "    </tr>\n",
       "    <tr>\n",
       "      <th>50%</th>\n",
       "      <td>39.000000</td>\n",
       "      <td>448.000000</td>\n",
       "      <td>16.000000</td>\n",
       "      <td>180.000000</td>\n",
       "      <td>2.000000</td>\n",
       "      <td>-1.000000</td>\n",
       "      <td>0.000000</td>\n",
       "    </tr>\n",
       "    <tr>\n",
       "      <th>75%</th>\n",
       "      <td>48.000000</td>\n",
       "      <td>1428.000000</td>\n",
       "      <td>21.000000</td>\n",
       "      <td>319.000000</td>\n",
       "      <td>3.000000</td>\n",
       "      <td>-1.000000</td>\n",
       "      <td>0.000000</td>\n",
       "    </tr>\n",
       "    <tr>\n",
       "      <th>max</th>\n",
       "      <td>95.000000</td>\n",
       "      <td>102127.000000</td>\n",
       "      <td>31.000000</td>\n",
       "      <td>4918.000000</td>\n",
       "      <td>63.000000</td>\n",
       "      <td>871.000000</td>\n",
       "      <td>275.000000</td>\n",
       "    </tr>\n",
       "  </tbody>\n",
       "</table>\n",
       "</div>"
      ],
      "text/plain": [
       "                age        balance           day      duration      campaign  \\\n",
       "count  45211.000000   45211.000000  45211.000000  45211.000000  45211.000000   \n",
       "mean      40.936210    1362.272058     15.806419    258.163080      2.763841   \n",
       "std       10.618762    3044.765829      8.322476    257.527812      3.098021   \n",
       "min       18.000000   -8019.000000      1.000000      0.000000      1.000000   \n",
       "25%       33.000000      72.000000      8.000000    103.000000      1.000000   \n",
       "50%       39.000000     448.000000     16.000000    180.000000      2.000000   \n",
       "75%       48.000000    1428.000000     21.000000    319.000000      3.000000   \n",
       "max       95.000000  102127.000000     31.000000   4918.000000     63.000000   \n",
       "\n",
       "              pdays      previous  \n",
       "count  45211.000000  45211.000000  \n",
       "mean      40.197828      0.580323  \n",
       "std      100.128746      2.303441  \n",
       "min       -1.000000      0.000000  \n",
       "25%       -1.000000      0.000000  \n",
       "50%       -1.000000      0.000000  \n",
       "75%       -1.000000      0.000000  \n",
       "max      871.000000    275.000000  "
      ]
     },
     "execution_count": 4,
     "metadata": {},
     "output_type": "execute_result"
    }
   ],
   "source": [
    "sample.describe()"
   ]
  },
  {
   "cell_type": "code",
   "execution_count": 5,
   "id": "44f112af",
   "metadata": {},
   "outputs": [],
   "source": [
    "ages = sample[\"age\"]"
   ]
  },
  {
   "cell_type": "markdown",
   "id": "a1216a20",
   "metadata": {},
   "source": [
    "## Box Plots"
   ]
  },
  {
   "cell_type": "code",
   "execution_count": 7,
   "id": "559d9f62",
   "metadata": {},
   "outputs": [
    {
     "data": {
      "text/plain": [
       "{'whiskers': [<matplotlib.lines.Line2D at 0x189e9ed7220>,\n",
       "  <matplotlib.lines.Line2D at 0x189e9ed7730>],\n",
       " 'caps': [<matplotlib.lines.Line2D at 0x189e9ed7a90>,\n",
       "  <matplotlib.lines.Line2D at 0x189e9ed7fa0>],\n",
       " 'boxes': [<matplotlib.lines.Line2D at 0x189e9ed5e80>],\n",
       " 'medians': [<matplotlib.lines.Line2D at 0x189e9eda340>],\n",
       " 'fliers': [<matplotlib.lines.Line2D at 0x189e9eda850>],\n",
       " 'means': []}"
      ]
     },
     "execution_count": 7,
     "metadata": {},
     "output_type": "execute_result"
    },
    {
     "data": {
      "image/png": "[encoded data removed]",
      "text/plain": [
       "<Figure size 432x288 with 1 Axes>"
      ]
     },
     "metadata": {
      "needs_background": "light"
     },
     "output_type": "display_data"
    }
   ],
   "source": [
    "plt.boxplot(ages,vert=0)"
   ]
  },
  {
   "cell_type": "code",
   "execution_count": 10,
   "id": "f34580b2",
   "metadata": {},
   "outputs": [],
   "source": [
    "#Lets apply a transformation with ax + c.\n",
    "\n",
    "a = 3\n",
    "c = 1"
   ]
  },
  {
   "cell_type": "code",
   "execution_count": 21,
   "id": "73d08285",
   "metadata": {},
   "outputs": [],
   "source": [
    "new_ages = a*ages + c"
   ]
  },
  {
   "cell_type": "markdown",
   "id": "d667c95f",
   "metadata": {},
   "source": [
    "## Range"
   ]
  },
  {
   "cell_type": "markdown",
   "id": "d0cbce9c",
   "metadata": {},
   "source": [
    "Range  =  $max - min$\n",
    "\n",
    "Transformed_Range =  $(a * max + c) - (a * min + c)$\n",
    "\n",
    "Transformed_Range =  $a * (max -  min)$\n",
    "\n",
    "---------------------------------------\n",
    "Transformed_Range =  $a * Range$\n",
    "\n",
    "---------------------------------------\n"
   ]
  },
  {
   "cell_type": "code",
   "execution_count": 23,
   "id": "9b1e8854",
   "metadata": {},
   "outputs": [
    {
     "name": "stdout",
     "output_type": "stream",
     "text": [
      "The Range of the data is: 77\n",
      "The Range of the transformed data is: 231\n",
      "The new Range is a * Range: 231\n"
     ]
    }
   ],
   "source": [
    "minimum,maximum = np.min(ages),np.max(ages)\n",
    "new_min, new_max = np.min(new_ages), np.max(new_ages)\n",
    "\n",
    "print(\"The Range of the data is:\",(maximum - minimum))\n",
    "print(\"The Range of the transformed data is:\",(new_max - new_min))\n",
    "\n",
    "print(\"The new Range is a * Range:\",(a*(maximum - minimum)))"
   ]
  },
  {
   "cell_type": "markdown",
   "id": "f96681bf",
   "metadata": {},
   "source": [
    "## IQR"
   ]
  },
  {
   "cell_type": "markdown",
   "id": "5d12f3c1",
   "metadata": {},
   "source": [
    "IQR  =  $Q3 - Q1$\n",
    "\n",
    "Transformed_IQR =  $(a * Q3 + c) - (a * Q1 + c)$\n",
    "\n",
    "Transformed_IQR =  $a * (Q3 -  Q1)$\n",
    "\n",
    "-------------------------------------\n",
    "Transformed_IQR =  $a * IQR$\n",
    "\n",
    "--------------------------------------\n",
    "\n",
    "$Q_i$ = $a * Q_i + c$\n",
    "\n",
    "--------------------------------------"
   ]
  },
  {
   "cell_type": "code",
   "execution_count": 24,
   "id": "5b9a88d5",
   "metadata": {},
   "outputs": [
    {
     "name": "stdout",
     "output_type": "stream",
     "text": [
      "Quartile 1(Q1) =  33.0 \n",
      "\n",
      "Quartile 3(Q3) =  48.0 \n",
      "\n",
      "IQR =  15.0\n"
     ]
    }
   ],
   "source": [
    "# First quartile (Q1)\n",
    "Q1 = np.percentile(ages, 25, interpolation = 'midpoint')\n",
    "\n",
    "print(\"Quartile 1(Q1) = \",Q1,\"\\n\")\n",
    "\n",
    "# Third quartile (Q3)\n",
    "Q3 = np.percentile(ages, 75, interpolation = 'midpoint')\n",
    "\n",
    "print(\"Quartile 3(Q3) = \",Q3,\"\\n\")\n",
    "\n",
    "# Interquaritle range (IQR)\n",
    "IQR = Q3 - Q1\n",
    "\n",
    "print(\"IQR = \",IQR)"
   ]
  },
  {
   "cell_type": "code",
   "execution_count": 26,
   "id": "73e4fd63",
   "metadata": {},
   "outputs": [
    {
     "name": "stdout",
     "output_type": "stream",
     "text": [
      "Quartile 1(Q1) =  100.0 \n",
      "\n",
      "Quartile 3(Q3) =  145.0 \n",
      "\n",
      "Transformed IQR =  45.0\n"
     ]
    }
   ],
   "source": [
    "# First quartile (Q1)\n",
    "new_Q1 = np.percentile(new_ages, 25, interpolation = 'midpoint')\n",
    "\n",
    "print(\"Quartile 1(Q1) = \",new_Q1,\"\\n\")\n",
    "\n",
    "# Third quartile (Q3)\n",
    "new_Q3 = np.percentile(new_ages, 75, interpolation = 'midpoint')\n",
    "\n",
    "print(\"Quartile 3(Q3) = \",new_Q3,\"\\n\")\n",
    "\n",
    "# Interquaritle range (IQR)\n",
    "new_IQR = new_Q3 - new_Q1\n",
    "\n",
    "print(\"Transformed IQR = \",new_IQR)\n"
   ]
  },
  {
   "cell_type": "markdown",
   "id": "db540423",
   "metadata": {},
   "source": [
    "## Variance "
   ]
  },
  {
   "cell_type": "code",
   "execution_count": 27,
   "id": "42b77c52",
   "metadata": {},
   "outputs": [],
   "source": [
    "import statistics"
   ]
  },
  {
   "cell_type": "markdown",
   "id": "f6d2c264",
   "metadata": {},
   "source": [
    "$Transformed-var$ = $a^{2} * var$"
   ]
  },
  {
   "cell_type": "code",
   "execution_count": 28,
   "id": "8530d8d9",
   "metadata": {},
   "outputs": [],
   "source": [
    "var = statistics.variance(ages)\n",
    "\n",
    "new_var = statistics.variance(new_ages)"
   ]
  },
  {
   "cell_type": "code",
   "execution_count": 29,
   "id": "2be7cb87",
   "metadata": {},
   "outputs": [
    {
     "name": "stdout",
     "output_type": "stream",
     "text": [
      "The variance of the data is: 112.7581072828605\n",
      "The Transformed variance is: 1014.8229655457444\n"
     ]
    }
   ],
   "source": [
    "print(\"The variance of the data is:\",var)\n",
    "\n",
    "print(\"The Transformed variance is:\",new_var)"
   ]
  },
  {
   "cell_type": "markdown",
   "id": "149e31fc",
   "metadata": {},
   "source": [
    "## Standard Deviation"
   ]
  },
  {
   "cell_type": "markdown",
   "id": "4318a384",
   "metadata": {},
   "source": [
    "$Transformed-stddev$ = $a * stddev$"
   ]
  },
  {
   "cell_type": "code",
   "execution_count": 32,
   "id": "900c7e29",
   "metadata": {},
   "outputs": [],
   "source": [
    "stddev = np.sqrt(var)\n",
    "\n",
    "new_stddev = np.sqrt(new_var)"
   ]
  },
  {
   "cell_type": "code",
   "execution_count": 33,
   "id": "53a301d8",
   "metadata": {},
   "outputs": [
    {
     "name": "stdout",
     "output_type": "stream",
     "text": [
      "The standard deviation of the data is: 10.61876204097542\n",
      "The Transformed standard deviation is: 31.856286122926264\n"
     ]
    }
   ],
   "source": [
    "print(\"The standard deviation of the data is:\",stddev)\n",
    "\n",
    "print(\"The Transformed standard deviation is:\",new_stddev)"
   ]
  }
 ],
 "metadata": {
  "kernelspec": {
   "display_name": "Python 3",
   "language": "python",
   "name": "python3"
  },
  "language_info": {
   "codemirror_mode": {
    "name": "ipython",
    "version": 3
   },
   "file_extension": ".py",
   "mimetype": "text/x-python",
   "name": "python",
   "nbconvert_exporter": "python",
   "pygments_lexer": "ipython3",
   "version": "3.8.8"
  }
 },
 "nbformat": 4,
 "nbformat_minor": 5
}
