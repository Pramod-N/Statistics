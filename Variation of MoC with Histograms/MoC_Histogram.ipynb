{
 "cells": [
  {
   "cell_type": "markdown",
   "id": "72d29c53",
   "metadata": {},
   "source": [
    "In this notebook, I will cover concepts regarding how to obtain mean, median and mode from histograms, assuming that we dont have knowledge on the data present. "
   ]
  },
  {
   "cell_type": "code",
   "execution_count": 63,
   "id": "455372b5",
   "metadata": {},
   "outputs": [],
   "source": [
    "import numpy as np\n",
    "import matplotlib.pyplot as plt"
   ]
  },
  {
   "cell_type": "markdown",
   "id": "b217b794",
   "metadata": {},
   "source": [
    "Below am initializing the data. \n",
    "\n",
    "**Note:** The below data is just used initially for visualization."
   ]
  },
  {
   "cell_type": "code",
   "execution_count": 64,
   "id": "6ac6b64a",
   "metadata": {},
   "outputs": [],
   "source": [
    "data = [4, 5, 6, 6, 6, 7, 7, 7, 7, 7, 7, 8, 8, 8, 9, 10]\n",
    "original_bins = np.arange(3.5,11,1)"
   ]
  },
  {
   "cell_type": "code",
   "execution_count": 65,
   "id": "92be3254",
   "metadata": {},
   "outputs": [],
   "source": [
    "def plot_fn(dataset,bins):\n",
    "    plt.hist(dataset,bins = bins,histtype='bar', ec='black')"
   ]
  },
  {
   "cell_type": "code",
   "execution_count": 66,
   "id": "09b9e63b",
   "metadata": {},
   "outputs": [
    {
     "data": {
      "image/png": "[encoded data removed]",
      "text/plain": [
       "<Figure size 432x288 with 1 Axes>"
      ]
     },
     "metadata": {
      "needs_background": "light"
     },
     "output_type": "display_data"
    }
   ],
   "source": [
    "plot_fn(data,original_bins)"
   ]
  },
  {
   "cell_type": "markdown",
   "id": "4f8dfb8d",
   "metadata": {},
   "source": [
    "Lets try to just use the data to calculate the bins programmatically instead giving it manually hardcoded"
   ]
  },
  {
   "cell_type": "code",
   "execution_count": 67,
   "id": "8fec27ea",
   "metadata": {},
   "outputs": [],
   "source": [
    "freqs,bins = np.histogram(data)"
   ]
  },
  {
   "cell_type": "markdown",
   "id": "a823a202",
   "metadata": {},
   "source": [
    "*freqs* = Has frequencies of values in each bins\n",
    "\n",
    "*bins* = intervals"
   ]
  },
  {
   "cell_type": "code",
   "execution_count": 68,
   "id": "dd40c853",
   "metadata": {},
   "outputs": [
    {
     "data": {
      "image/png": "[encoded data removed]",
      "text/plain": [
       "<Figure size 432x288 with 1 Axes>"
      ]
     },
     "metadata": {
      "needs_background": "light"
     },
     "output_type": "display_data"
    }
   ],
   "source": [
    "plot_fn(data,bins)"
   ]
  },
  {
   "cell_type": "markdown",
   "id": "66b71442",
   "metadata": {},
   "source": [
    "Now assume, we are just given this above visualization and we dont have access to data and asked to calculate mean, median and mode. \n",
    "\n",
    "*How can we do it?*\n",
    "\n",
    "I am going to answer it below."
   ]
  },
  {
   "cell_type": "markdown",
   "id": "dafeb821",
   "metadata": {},
   "source": [
    "## Calculate Mean"
   ]
  },
  {
   "cell_type": "markdown",
   "id": "fb7addac",
   "metadata": {},
   "source": [
    "First find the mid point of each bins "
   ]
  },
  {
   "cell_type": "code",
   "execution_count": 69,
   "id": "4411b055",
   "metadata": {},
   "outputs": [],
   "source": [
    "mids = (bins[:-1] + bins[1:])/2"
   ]
  },
  {
   "cell_type": "code",
   "execution_count": 70,
   "id": "5729fcbc",
   "metadata": {},
   "outputs": [],
   "source": [
    "cal_mean = np.average(mids,weights=freqs)"
   ]
  },
  {
   "cell_type": "code",
   "execution_count": 71,
   "id": "3de5440e",
   "metadata": {},
   "outputs": [],
   "source": [
    "org_mean = np.mean(data)"
   ]
  },
  {
   "cell_type": "code",
   "execution_count": 73,
   "id": "de6eaf7c",
   "metadata": {},
   "outputs": [
    {
     "name": "stdout",
     "output_type": "stream",
     "text": [
      "The true mean of the data: 7.0\n",
      "The calculated mean: 7.1125\n"
     ]
    }
   ],
   "source": [
    "print(\"The true mean of the data:\",org_mean)\n",
    "print(\"The calculated mean:\",cal_mean)"
   ]
  },
  {
   "cell_type": "markdown",
   "id": "d5589665",
   "metadata": {},
   "source": [
    "So, when we dont know what the data in each interval is, then take mid point of each interval and multiply each by their frequencies and divide by total number of data points"
   ]
  },
  {
   "cell_type": "markdown",
   "id": "050f1ded",
   "metadata": {},
   "source": [
    "*Error % = ( | Calculated_Mean - True_Mean | * 100 ) / True_Mean*"
   ]
  },
  {
   "cell_type": "code",
   "execution_count": 74,
   "id": "cdd1c71f",
   "metadata": {},
   "outputs": [
    {
     "name": "stdout",
     "output_type": "stream",
     "text": [
      "The error in analysis is: 1.6071428571428545\n"
     ]
    }
   ],
   "source": [
    "err = ((abs(cal_mean - org_mean)*100)/org_mean)\n",
    "\n",
    "print(\"The error in analysis is:\",err)"
   ]
  },
  {
   "cell_type": "markdown",
   "id": "6726a5af",
   "metadata": {},
   "source": [
    "## Calculate Median"
   ]
  },
  {
   "cell_type": "markdown",
   "id": "92af3b5f",
   "metadata": {},
   "source": [
    "Cacluate the cumulative frequency of the data"
   ]
  },
  {
   "cell_type": "code",
   "execution_count": 75,
   "id": "60dacd65",
   "metadata": {},
   "outputs": [],
   "source": [
    "cumulative_freq = np.cumsum(freqs)"
   ]
  },
  {
   "cell_type": "code",
   "execution_count": 76,
   "id": "906a0d08",
   "metadata": {},
   "outputs": [
    {
     "name": "stdout",
     "output_type": "stream",
     "text": [
      "Total sum of data points in the dataset: 16\n"
     ]
    }
   ],
   "source": [
    "total_sumof_datapoints = cumulative_freq[-1]\n",
    "print(\"Total sum of data points in the dataset:\",total_sumof_datapoints)"
   ]
  },
  {
   "cell_type": "markdown",
   "id": "c0c74e28",
   "metadata": {},
   "source": [
    "formula to calculate mid point:\n",
    "\n",
    "If Even:\n",
    "average of elements at index\n",
    "$(N/2)$ and $(N/2) + 1$ \n",
    "\n",
    "If Odd:\n",
    "element at index\n",
    "$(N+1)/2$"
   ]
  },
  {
   "cell_type": "code",
   "execution_count": 77,
   "id": "ffdd50d4",
   "metadata": {},
   "outputs": [],
   "source": [
    "mid_val = total_sumof_datapoints/2"
   ]
  },
  {
   "cell_type": "code",
   "execution_count": 78,
   "id": "ef5088d9",
   "metadata": {},
   "outputs": [],
   "source": [
    "interval = [(round(bins[i],1), round(bins[i + 1],1)) for i in range(len(bins) - 1)]"
   ]
  },
  {
   "cell_type": "code",
   "execution_count": 79,
   "id": "8f55a94e",
   "metadata": {},
   "outputs": [],
   "source": [
    "def find_index_interval(cumulative_freq,mid_val):\n",
    "    for i in range(1,len(cumulative_freq)):\n",
    "        if cumulative_freq[i-1] <= mid_val <= cumulative_freq[i]:\n",
    "            if mid_val == cumulative_freq[i]:\n",
    "                return i+1\n",
    "            else:\n",
    "                return i"
   ]
  },
  {
   "cell_type": "code",
   "execution_count": 80,
   "id": "55125d7f",
   "metadata": {},
   "outputs": [],
   "source": [
    "mid_interval = find_index_interval(cumulative_freq,mid_val)"
   ]
  },
  {
   "cell_type": "code",
   "execution_count": 81,
   "id": "d7c621e6",
   "metadata": {},
   "outputs": [],
   "source": [
    "cal_median = (interval[mid_interval][0] + interval[mid_interval][1])/2\n",
    "\n",
    "org_median = np.median(data)"
   ]
  },
  {
   "cell_type": "code",
   "execution_count": 82,
   "id": "0c42b323",
   "metadata": {},
   "outputs": [
    {
     "name": "stdout",
     "output_type": "stream",
     "text": [
      "The true mean of the data: 7.0\n",
      "The calculated mean: 7.3\n"
     ]
    }
   ],
   "source": [
    "print(\"The true mean of the data:\",org_median)\n",
    "print(\"The calculated mean:\",cal_median)"
   ]
  },
  {
   "cell_type": "markdown",
   "id": "7bee984b",
   "metadata": {},
   "source": [
    "So, when we dont know what the data in each interval is, take the cumulative frequency and find the interval to which it falls.\n",
    "The mid point of the interval is considered to be the median."
   ]
  },
  {
   "cell_type": "markdown",
   "id": "30f58ef9",
   "metadata": {},
   "source": [
    "*Error % = ( | Calculated_Mean - True_Mean | * 100 ) / True_Mean*"
   ]
  },
  {
   "cell_type": "code",
   "execution_count": 83,
   "id": "38fc72a6",
   "metadata": {},
   "outputs": [
    {
     "name": "stdout",
     "output_type": "stream",
     "text": [
      "The error in analysis is: 4.285714285714283\n"
     ]
    }
   ],
   "source": [
    "err_median = ((abs(cal_median - org_median)*100)/org_median)\n",
    "\n",
    "print(\"The error in analysis is:\",err_median)"
   ]
  },
  {
   "cell_type": "markdown",
   "id": "f480cefa",
   "metadata": {},
   "source": [
    "## Mode"
   ]
  },
  {
   "cell_type": "markdown",
   "id": "bdad15e0",
   "metadata": {},
   "source": [
    "If the data is not known, then we will never be able to find the mode from histogram.\n",
    "\n",
    "Let me explain this using an example"
   ]
  },
  {
   "cell_type": "code",
   "execution_count": 86,
   "id": "ec0e59a7",
   "metadata": {},
   "outputs": [],
   "source": [
    "example = [2.2,2.2,2.2,2.2,4,5,6,7.1,7.2,7.3,7.4,7.5,7.6,8]"
   ]
  },
  {
   "cell_type": "code",
   "execution_count": 87,
   "id": "0e0e77a9",
   "metadata": {},
   "outputs": [
    {
     "data": {
      "image/png": "[encoded data removed]",
      "text/plain": [
       "<Figure size 432x288 with 1 Axes>"
      ]
     },
     "metadata": {
      "needs_background": "light"
     },
     "output_type": "display_data"
    }
   ],
   "source": [
    "freq,bins = np.histogram(example)\n",
    "\n",
    "plot_fn(example,bins)"
   ]
  },
  {
   "cell_type": "markdown",
   "id": "cc5721d7",
   "metadata": {},
   "source": [
    "from the above histogram, one might assume that the mode in between 6.8 & 7.4 and consider taking the midpoint value as mode(assumed mode is **7.1**).\n",
    "\n",
    "But if you observe the data closely, the interval in which mode falls is 2.2 - 2.78(to be precise, the mode value of the dataset is **2.2**).\n",
    "\n",
    "So, the assumed mode value is no where close to the original mode value.\n",
    "\n",
    "*In short, We can't calculate mode if we don't know the data.*"
   ]
  }
 ],
 "metadata": {
  "kernelspec": {
   "display_name": "Python 3",
   "language": "python",
   "name": "python3"
  },
  "language_info": {
   "codemirror_mode": {
    "name": "ipython",
    "version": 3
   },
   "file_extension": ".py",
   "mimetype": "text/x-python",
   "name": "python",
   "nbconvert_exporter": "python",
   "pygments_lexer": "ipython3",
   "version": "3.8.8"
  }
 },
 "nbformat": 4,
 "nbformat_minor": 5
}
